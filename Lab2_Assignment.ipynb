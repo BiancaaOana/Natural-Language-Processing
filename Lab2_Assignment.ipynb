{
  "nbformat": 4,
  "nbformat_minor": 0,
  "metadata": {
    "colab": {
      "name": "Lab2.ipynb",
      "provenance": [],
      "collapsed_sections": []
    },
    "kernelspec": {
      "name": "python3",
      "display_name": "Python 3"
    },
    "language_info": {
      "name": "python"
    }
  },
  "cells": [
    {
      "cell_type": "markdown",
      "metadata": {
        "id": "g1bls46SNnk0"
      },
      "source": [
        "# Text Preprocessing for non-English languages\n",
        "\n",
        "##Challenges\n",
        "* Diacritics restoration \n",
        "* Text segmentation for Chinese, Japanese, Arabic\n",
        "* You may need to have some knowledge about the language\n",
        "\n",
        "\n",
        "\n"
      ]
    },
    {
      "cell_type": "markdown",
      "metadata": {
        "id": "Eee1lFEWQgq9"
      },
      "source": [
        "##Case studies"
      ]
    },
    {
      "cell_type": "markdown",
      "metadata": {
        "id": "eu6CzKPSQof-"
      },
      "source": [
        "###Romanian\n"
      ]
    },
    {
      "cell_type": "code",
      "metadata": {
        "id": "_nWQUPlZaKR7",
        "colab": {
          "base_uri": "https://localhost:8080/"
        },
        "outputId": "ed142f7f-edc5-484c-edbb-8a179adae942"
      },
      "source": [
        "from pprint import pprint\n",
        "\n",
        "romanian_text = '''Examenul Chunin începe 25. A zecea întrebare: Totul sau nimic!\n",
        "    Excepţie a făcut-o Hotinul, unde s-a aşezat o garnizoană turcească, care a început să jefuiască cu cruzime ţara.\n",
        "    Excitarea catatonică este o stare de agitaţie constantă şi de excitare motrică şi nervoasă.\n",
        "    Excreţiile parazitului irită pielea prpducând mâncărime şi răni produse de scărpinat, iau naştere papule, vezicule, pustule, infiltraţii, acestea prin infecţii secundare, se pot transforma în furunculi.\n",
        "    Executarea tabloului este precedată de o întreagă serie de schiţe.\n",
        "    Execuţia acestei lucrări a început în anul 1957 şi s-a finalizat în anul urmator.\n",
        "    Exemple de mesaje au fost eliminarea unui al doilea membru al tribului după ce a fost eliminat unul sau evitarea participării la Consiliul Tribal, dar cu preţul mutării intr-o locaţie mai puţin confortabilă.\n",
        "    Exemple de specii din grupul calmarilor pot servi Loligo vulgaris, Ommastrephes sagittatus, Ommastrephes slosnei pacificus, Chiroteuthis veranyi etc. Unele specii sunt exploatate pentru carnea lor comestibilă\n",
        "    '''\n",
        "pprint(romanian_text)"
      ],
      "execution_count": 1,
      "outputs": [
        {
          "output_type": "stream",
          "name": "stdout",
          "text": [
            "('Examenul Chunin începe 25. A zecea întrebare: Totul sau nimic!\\n'\n",
            " '    Excepţie a făcut-o Hotinul, unde s-a aşezat o garnizoană turcească, care '\n",
            " 'a început să jefuiască cu cruzime ţara.\\n'\n",
            " '    Excitarea catatonică este o stare de agitaţie constantă şi de excitare '\n",
            " 'motrică şi nervoasă.\\n'\n",
            " '    Excreţiile parazitului irită pielea prpducând mâncărime şi răni produse '\n",
            " 'de scărpinat, iau naştere papule, vezicule, pustule, infiltraţii, acestea '\n",
            " 'prin infecţii secundare, se pot transforma în furunculi.\\n'\n",
            " '    Executarea tabloului este precedată de o întreagă serie de schiţe.\\n'\n",
            " '    Execuţia acestei lucrări a început în anul 1957 şi s-a finalizat în anul '\n",
            " 'urmator.\\n'\n",
            " '    Exemple de mesaje au fost eliminarea unui al doilea membru al tribului '\n",
            " 'după ce a fost eliminat unul sau evitarea participării la Consiliul Tribal, '\n",
            " 'dar cu preţul mutării intr-o locaţie mai puţin confortabilă.\\n'\n",
            " '    Exemple de specii din grupul calmarilor pot servi Loligo vulgaris, '\n",
            " 'Ommastrephes sagittatus, Ommastrephes slosnei pacificus, Chiroteuthis '\n",
            " 'veranyi etc. Unele specii sunt exploatate pentru carnea lor comestibilă\\n'\n",
            " '    ')\n"
          ]
        }
      ]
    },
    {
      "cell_type": "markdown",
      "metadata": {
        "id": "e3SwK7ZIa3Gt"
      },
      "source": [
        "Lowercasing text"
      ]
    },
    {
      "cell_type": "code",
      "metadata": {
        "id": "YIrLujmWa5Mb",
        "colab": {
          "base_uri": "https://localhost:8080/"
        },
        "outputId": "7256669c-ebbc-40d2-955e-71125c798b5d"
      },
      "source": [
        "romanian_text = romanian_text.lower()\n",
        "pprint(romanian_text)"
      ],
      "execution_count": 2,
      "outputs": [
        {
          "output_type": "stream",
          "name": "stdout",
          "text": [
            "('examenul chunin începe 25. a zecea întrebare: totul sau nimic!\\n'\n",
            " '    excepţie a făcut-o hotinul, unde s-a aşezat o garnizoană turcească, care '\n",
            " 'a început să jefuiască cu cruzime ţara.\\n'\n",
            " '    excitarea catatonică este o stare de agitaţie constantă şi de excitare '\n",
            " 'motrică şi nervoasă.\\n'\n",
            " '    excreţiile parazitului irită pielea prpducând mâncărime şi răni produse '\n",
            " 'de scărpinat, iau naştere papule, vezicule, pustule, infiltraţii, acestea '\n",
            " 'prin infecţii secundare, se pot transforma în furunculi.\\n'\n",
            " '    executarea tabloului este precedată de o întreagă serie de schiţe.\\n'\n",
            " '    execuţia acestei lucrări a început în anul 1957 şi s-a finalizat în anul '\n",
            " 'urmator.\\n'\n",
            " '    exemple de mesaje au fost eliminarea unui al doilea membru al tribului '\n",
            " 'după ce a fost eliminat unul sau evitarea participării la consiliul tribal, '\n",
            " 'dar cu preţul mutării intr-o locaţie mai puţin confortabilă.\\n'\n",
            " '    exemple de specii din grupul calmarilor pot servi loligo vulgaris, '\n",
            " 'ommastrephes sagittatus, ommastrephes slosnei pacificus, chiroteuthis '\n",
            " 'veranyi etc. unele specii sunt exploatate pentru carnea lor comestibilă\\n'\n",
            " '    ')\n"
          ]
        }
      ]
    },
    {
      "cell_type": "markdown",
      "metadata": {
        "id": "qBJNRbnzbAIe"
      },
      "source": [
        "Removing digits"
      ]
    },
    {
      "cell_type": "code",
      "metadata": {
        "id": "EmFfE5VSbCHo",
        "colab": {
          "base_uri": "https://localhost:8080/"
        },
        "outputId": "284b31d0-9a41-41e0-d010-4ae62d5f8c1f"
      },
      "source": [
        "import re\n",
        "\n",
        "romanian_text = re.sub(' \\d+', '', romanian_text)\n",
        "pprint(romanian_text)"
      ],
      "execution_count": 3,
      "outputs": [
        {
          "output_type": "stream",
          "name": "stdout",
          "text": [
            "('examenul chunin începe. a zecea întrebare: totul sau nimic!\\n'\n",
            " '    excepţie a făcut-o hotinul, unde s-a aşezat o garnizoană turcească, care '\n",
            " 'a început să jefuiască cu cruzime ţara.\\n'\n",
            " '    excitarea catatonică este o stare de agitaţie constantă şi de excitare '\n",
            " 'motrică şi nervoasă.\\n'\n",
            " '    excreţiile parazitului irită pielea prpducând mâncărime şi răni produse '\n",
            " 'de scărpinat, iau naştere papule, vezicule, pustule, infiltraţii, acestea '\n",
            " 'prin infecţii secundare, se pot transforma în furunculi.\\n'\n",
            " '    executarea tabloului este precedată de o întreagă serie de schiţe.\\n'\n",
            " '    execuţia acestei lucrări a început în anul şi s-a finalizat în anul '\n",
            " 'urmator.\\n'\n",
            " '    exemple de mesaje au fost eliminarea unui al doilea membru al tribului '\n",
            " 'după ce a fost eliminat unul sau evitarea participării la consiliul tribal, '\n",
            " 'dar cu preţul mutării intr-o locaţie mai puţin confortabilă.\\n'\n",
            " '    exemple de specii din grupul calmarilor pot servi loligo vulgaris, '\n",
            " 'ommastrephes sagittatus, ommastrephes slosnei pacificus, chiroteuthis '\n",
            " 'veranyi etc. unele specii sunt exploatate pentru carnea lor comestibilă\\n'\n",
            " '    ')\n"
          ]
        }
      ]
    },
    {
      "cell_type": "markdown",
      "metadata": {
        "id": "D3vte5EFb7x0"
      },
      "source": [
        "Removing diacritics using [Unidecode](https://pypi.org/project/Unidecode/). Transforming Unicode text in ASCII."
      ]
    },
    {
      "cell_type": "code",
      "metadata": {
        "id": "sOxU-1bXcGBv",
        "colab": {
          "base_uri": "https://localhost:8080/"
        },
        "outputId": "bad014b1-2148-4583-b468-e2228da438f4"
      },
      "source": [
        "!pip install unidecode"
      ],
      "execution_count": 4,
      "outputs": [
        {
          "output_type": "stream",
          "name": "stdout",
          "text": [
            "Collecting unidecode\n",
            "  Downloading Unidecode-1.3.2-py3-none-any.whl (235 kB)\n",
            "\u001b[?25l\r\u001b[K     |█▍                              | 10 kB 26.5 MB/s eta 0:00:01\r\u001b[K     |██▉                             | 20 kB 28.0 MB/s eta 0:00:01\r\u001b[K     |████▏                           | 30 kB 12.5 MB/s eta 0:00:01\r\u001b[K     |█████▋                          | 40 kB 9.6 MB/s eta 0:00:01\r\u001b[K     |███████                         | 51 kB 7.1 MB/s eta 0:00:01\r\u001b[K     |████████▍                       | 61 kB 7.0 MB/s eta 0:00:01\r\u001b[K     |█████████▊                      | 71 kB 6.9 MB/s eta 0:00:01\r\u001b[K     |███████████▏                    | 81 kB 7.6 MB/s eta 0:00:01\r\u001b[K     |████████████▌                   | 92 kB 7.5 MB/s eta 0:00:01\r\u001b[K     |██████████████                  | 102 kB 6.8 MB/s eta 0:00:01\r\u001b[K     |███████████████▎                | 112 kB 6.8 MB/s eta 0:00:01\r\u001b[K     |████████████████▊               | 122 kB 6.8 MB/s eta 0:00:01\r\u001b[K     |██████████████████              | 133 kB 6.8 MB/s eta 0:00:01\r\u001b[K     |███████████████████▌            | 143 kB 6.8 MB/s eta 0:00:01\r\u001b[K     |████████████████████▉           | 153 kB 6.8 MB/s eta 0:00:01\r\u001b[K     |██████████████████████▎         | 163 kB 6.8 MB/s eta 0:00:01\r\u001b[K     |███████████████████████▋        | 174 kB 6.8 MB/s eta 0:00:01\r\u001b[K     |█████████████████████████       | 184 kB 6.8 MB/s eta 0:00:01\r\u001b[K     |██████████████████████████▍     | 194 kB 6.8 MB/s eta 0:00:01\r\u001b[K     |███████████████████████████▉    | 204 kB 6.8 MB/s eta 0:00:01\r\u001b[K     |█████████████████████████████▏  | 215 kB 6.8 MB/s eta 0:00:01\r\u001b[K     |██████████████████████████████▋ | 225 kB 6.8 MB/s eta 0:00:01\r\u001b[K     |████████████████████████████████| 235 kB 6.8 MB/s eta 0:00:01\r\u001b[K     |████████████████████████████████| 235 kB 6.8 MB/s \n",
            "\u001b[?25hInstalling collected packages: unidecode\n",
            "Successfully installed unidecode-1.3.2\n"
          ]
        }
      ]
    },
    {
      "cell_type": "code",
      "metadata": {
        "id": "N2LOnLH5b9nZ",
        "colab": {
          "base_uri": "https://localhost:8080/"
        },
        "outputId": "a894e6e0-98ff-4a50-de43-6249845b36fc"
      },
      "source": [
        "import unidecode\n",
        "romanian_text  = unidecode.unidecode(romanian_text)\n",
        "pprint(romanian_text)"
      ],
      "execution_count": 5,
      "outputs": [
        {
          "output_type": "stream",
          "name": "stdout",
          "text": [
            "('examenul chunin incepe. a zecea intrebare: totul sau nimic!\\n'\n",
            " '    exceptie a facut-o hotinul, unde s-a asezat o garnizoana turceasca, care '\n",
            " 'a inceput sa jefuiasca cu cruzime tara.\\n'\n",
            " '    excitarea catatonica este o stare de agitatie constanta si de excitare '\n",
            " 'motrica si nervoasa.\\n'\n",
            " '    excretiile parazitului irita pielea prpducand mancarime si rani produse '\n",
            " 'de scarpinat, iau nastere papule, vezicule, pustule, infiltratii, acestea '\n",
            " 'prin infectii secundare, se pot transforma in furunculi.\\n'\n",
            " '    executarea tabloului este precedata de o intreaga serie de schite.\\n'\n",
            " '    executia acestei lucrari a inceput in anul si s-a finalizat in anul '\n",
            " 'urmator.\\n'\n",
            " '    exemple de mesaje au fost eliminarea unui al doilea membru al tribului '\n",
            " 'dupa ce a fost eliminat unul sau evitarea participarii la consiliul tribal, '\n",
            " 'dar cu pretul mutarii intr-o locatie mai putin confortabila.\\n'\n",
            " '    exemple de specii din grupul calmarilor pot servi loligo vulgaris, '\n",
            " 'ommastrephes sagittatus, ommastrephes slosnei pacificus, chiroteuthis '\n",
            " 'veranyi etc. unele specii sunt exploatate pentru carnea lor comestibila\\n'\n",
            " '    ')\n"
          ]
        }
      ]
    },
    {
      "cell_type": "markdown",
      "metadata": {
        "id": "Nu_mud4-bMoA"
      },
      "source": [
        "Sentence tokenization"
      ]
    },
    {
      "cell_type": "code",
      "metadata": {
        "id": "zP9KEQgmbRey",
        "colab": {
          "base_uri": "https://localhost:8080/"
        },
        "outputId": "d44b3830-b93b-4198-82b5-eea2de77a783"
      },
      "source": [
        "from nltk import sent_tokenize\n",
        "import nltk\n",
        "nltk.download('punkt')\n",
        "\n",
        "sent_romanian = sent_tokenize(romanian_text)\n",
        "sent_romanian "
      ],
      "execution_count": 6,
      "outputs": [
        {
          "output_type": "stream",
          "name": "stdout",
          "text": [
            "[nltk_data] Downloading package punkt to /root/nltk_data...\n",
            "[nltk_data]   Unzipping tokenizers/punkt.zip.\n"
          ]
        },
        {
          "output_type": "execute_result",
          "data": {
            "text/plain": [
              "['examenul chunin incepe.',\n",
              " 'a zecea intrebare: totul sau nimic!',\n",
              " 'exceptie a facut-o hotinul, unde s-a asezat o garnizoana turceasca, care a inceput sa jefuiasca cu cruzime tara.',\n",
              " 'excitarea catatonica este o stare de agitatie constanta si de excitare motrica si nervoasa.',\n",
              " 'excretiile parazitului irita pielea prpducand mancarime si rani produse de scarpinat, iau nastere papule, vezicule, pustule, infiltratii, acestea prin infectii secundare, se pot transforma in furunculi.',\n",
              " 'executarea tabloului este precedata de o intreaga serie de schite.',\n",
              " 'executia acestei lucrari a inceput in anul si s-a finalizat in anul urmator.',\n",
              " 'exemple de mesaje au fost eliminarea unui al doilea membru al tribului dupa ce a fost eliminat unul sau evitarea participarii la consiliul tribal, dar cu pretul mutarii intr-o locatie mai putin confortabila.',\n",
              " 'exemple de specii din grupul calmarilor pot servi loligo vulgaris, ommastrephes sagittatus, ommastrephes slosnei pacificus, chiroteuthis veranyi etc.',\n",
              " 'unele specii sunt exploatate pentru carnea lor comestibila']"
            ]
          },
          "metadata": {},
          "execution_count": 6
        }
      ]
    },
    {
      "cell_type": "markdown",
      "metadata": {
        "id": "JAhei-_DbuMB"
      },
      "source": [
        "Word tokenization"
      ]
    },
    {
      "cell_type": "code",
      "metadata": {
        "id": "KZSvPmlVdYZH",
        "colab": {
          "base_uri": "https://localhost:8080/"
        },
        "outputId": "33f32c83-7a77-4a79-d313-2c680abcc599"
      },
      "source": [
        "from nltk import word_tokenize\n",
        "import string\n",
        "\n",
        "\n",
        "sent_romanian = [sent.translate(str.maketrans('', '', string.punctuation)) for sent in sent_romanian]\n",
        "\n",
        "words_romanian = [[word_tokenize(sent) for sent in sent_romanian]]\n",
        "pprint(words_romanian) "
      ],
      "execution_count": 7,
      "outputs": [
        {
          "output_type": "stream",
          "name": "stdout",
          "text": [
            "[[['examenul', 'chunin', 'incepe'],\n",
            "  ['a', 'zecea', 'intrebare', 'totul', 'sau', 'nimic'],\n",
            "  ['exceptie',\n",
            "   'a',\n",
            "   'facuto',\n",
            "   'hotinul',\n",
            "   'unde',\n",
            "   'sa',\n",
            "   'asezat',\n",
            "   'o',\n",
            "   'garnizoana',\n",
            "   'turceasca',\n",
            "   'care',\n",
            "   'a',\n",
            "   'inceput',\n",
            "   'sa',\n",
            "   'jefuiasca',\n",
            "   'cu',\n",
            "   'cruzime',\n",
            "   'tara'],\n",
            "  ['excitarea',\n",
            "   'catatonica',\n",
            "   'este',\n",
            "   'o',\n",
            "   'stare',\n",
            "   'de',\n",
            "   'agitatie',\n",
            "   'constanta',\n",
            "   'si',\n",
            "   'de',\n",
            "   'excitare',\n",
            "   'motrica',\n",
            "   'si',\n",
            "   'nervoasa'],\n",
            "  ['excretiile',\n",
            "   'parazitului',\n",
            "   'irita',\n",
            "   'pielea',\n",
            "   'prpducand',\n",
            "   'mancarime',\n",
            "   'si',\n",
            "   'rani',\n",
            "   'produse',\n",
            "   'de',\n",
            "   'scarpinat',\n",
            "   'iau',\n",
            "   'nastere',\n",
            "   'papule',\n",
            "   'vezicule',\n",
            "   'pustule',\n",
            "   'infiltratii',\n",
            "   'acestea',\n",
            "   'prin',\n",
            "   'infectii',\n",
            "   'secundare',\n",
            "   'se',\n",
            "   'pot',\n",
            "   'transforma',\n",
            "   'in',\n",
            "   'furunculi'],\n",
            "  ['executarea',\n",
            "   'tabloului',\n",
            "   'este',\n",
            "   'precedata',\n",
            "   'de',\n",
            "   'o',\n",
            "   'intreaga',\n",
            "   'serie',\n",
            "   'de',\n",
            "   'schite'],\n",
            "  ['executia',\n",
            "   'acestei',\n",
            "   'lucrari',\n",
            "   'a',\n",
            "   'inceput',\n",
            "   'in',\n",
            "   'anul',\n",
            "   'si',\n",
            "   'sa',\n",
            "   'finalizat',\n",
            "   'in',\n",
            "   'anul',\n",
            "   'urmator'],\n",
            "  ['exemple',\n",
            "   'de',\n",
            "   'mesaje',\n",
            "   'au',\n",
            "   'fost',\n",
            "   'eliminarea',\n",
            "   'unui',\n",
            "   'al',\n",
            "   'doilea',\n",
            "   'membru',\n",
            "   'al',\n",
            "   'tribului',\n",
            "   'dupa',\n",
            "   'ce',\n",
            "   'a',\n",
            "   'fost',\n",
            "   'eliminat',\n",
            "   'unul',\n",
            "   'sau',\n",
            "   'evitarea',\n",
            "   'participarii',\n",
            "   'la',\n",
            "   'consiliul',\n",
            "   'tribal',\n",
            "   'dar',\n",
            "   'cu',\n",
            "   'pretul',\n",
            "   'mutarii',\n",
            "   'intro',\n",
            "   'locatie',\n",
            "   'mai',\n",
            "   'putin',\n",
            "   'confortabila'],\n",
            "  ['exemple',\n",
            "   'de',\n",
            "   'specii',\n",
            "   'din',\n",
            "   'grupul',\n",
            "   'calmarilor',\n",
            "   'pot',\n",
            "   'servi',\n",
            "   'loligo',\n",
            "   'vulgaris',\n",
            "   'ommastrephes',\n",
            "   'sagittatus',\n",
            "   'ommastrephes',\n",
            "   'slosnei',\n",
            "   'pacificus',\n",
            "   'chiroteuthis',\n",
            "   'veranyi',\n",
            "   'etc'],\n",
            "  ['unele',\n",
            "   'specii',\n",
            "   'sunt',\n",
            "   'exploatate',\n",
            "   'pentru',\n",
            "   'carnea',\n",
            "   'lor',\n",
            "   'comestibila']]]\n"
          ]
        }
      ]
    },
    {
      "cell_type": "markdown",
      "metadata": {
        "id": "f14iGgZq-7cW"
      },
      "source": [
        "spaCy on Romanian text"
      ]
    },
    {
      "cell_type": "markdown",
      "metadata": {
        "id": "Rjn9U8a5Qqxm"
      },
      "source": [
        "###Japanese \n",
        "\n",
        "[Japanese punctuation](https://en.wikipedia.org/wiki/Japanese_punctuation)"
      ]
    },
    {
      "cell_type": "code",
      "metadata": {
        "id": "ajsK1qxrGu4S"
      },
      "source": [
        "japanese_text = '''$100ベットしていた場合には$100の配当を得られる。\n",
        "    なお、100形のうち101 - 110の10両は当時丸ノ内線方南町支線用であり 、これの代替には1500N形投入により2000形を10両 (2031 - 2040) 捻出して対応している。\n",
        "    コンセプトは「100時間遊べるおまけ」。\n",
        "    なお100系1･2次車の床面高さは従前通りの1150mmである。\n",
        "    ゴチ10・12・15ではMCを担当。\n",
        "    ! 101番目の魔物 （ 大海恵 ） 2005年 * 劇場版 金色のガッシュベル!\n",
        "    1088年に誕生した人物及び著名な動物 。'''"
      ],
      "execution_count": 8,
      "outputs": []
    },
    {
      "cell_type": "markdown",
      "metadata": {
        "id": "gMzZlhIcHaDM"
      },
      "source": [
        "Removing digits"
      ]
    },
    {
      "cell_type": "code",
      "metadata": {
        "id": "At5P_Fd-Hb_y",
        "colab": {
          "base_uri": "https://localhost:8080/",
          "height": 90
        },
        "outputId": "0df2ba05-1616-4333-b654-be12fc82da3e"
      },
      "source": [
        "import re\n",
        "\n",
        "japanese_text = ''.join([c for c in japanese_text if c.isdigit() == False ])\n",
        "japanese_text"
      ],
      "execution_count": 9,
      "outputs": [
        {
          "output_type": "execute_result",
          "data": {
            "application/vnd.google.colaboratory.intrinsic+json": {
              "type": "string"
            },
            "text/plain": [
              "'$ベットしていた場合には$の配当を得られる。\\n    なお、形のうち - の両は当時丸ノ内線方南町支線用であり 、これの代替にはN形投入により形を両 ( - ) 捻出して対応している。\\n    コンセプトは「時間遊べるおまけ」。\\n    なお系･次車の床面高さは従前通りのmmである。\\n    ゴチ・・ではMCを担当。\\n    ! 番目の魔物 （ 大海恵 ） 年 * 劇場版 金色のガッシュベル!\\n    年に誕生した人物及び著名な動物 。'"
            ]
          },
          "metadata": {},
          "execution_count": 9
        }
      ]
    },
    {
      "cell_type": "markdown",
      "metadata": {
        "id": "zid78ObFMwS_"
      },
      "source": [
        "Installing some dependencies for japanese"
      ]
    },
    {
      "cell_type": "code",
      "metadata": {
        "id": "vBN4bFN0gB48",
        "colab": {
          "base_uri": "https://localhost:8080/"
        },
        "outputId": "a7d8ea99-3046-447c-8e3a-34f68e28cd24"
      },
      "source": [
        "!pip install mecab-python3"
      ],
      "execution_count": 10,
      "outputs": [
        {
          "output_type": "stream",
          "name": "stdout",
          "text": [
            "Collecting mecab-python3\n",
            "  Downloading mecab_python3-1.0.4-cp37-cp37m-manylinux_2_5_x86_64.manylinux1_x86_64.whl (488 kB)\n",
            "\u001b[?25l\r\u001b[K     |▊                               | 10 kB 23.5 MB/s eta 0:00:01\r\u001b[K     |█▍                              | 20 kB 29.7 MB/s eta 0:00:01\r\u001b[K     |██                              | 30 kB 15.2 MB/s eta 0:00:01\r\u001b[K     |██▊                             | 40 kB 11.5 MB/s eta 0:00:01\r\u001b[K     |███▍                            | 51 kB 8.0 MB/s eta 0:00:01\r\u001b[K     |████                            | 61 kB 8.5 MB/s eta 0:00:01\r\u001b[K     |████▊                           | 71 kB 7.2 MB/s eta 0:00:01\r\u001b[K     |█████▍                          | 81 kB 8.1 MB/s eta 0:00:01\r\u001b[K     |██████                          | 92 kB 7.0 MB/s eta 0:00:01\r\u001b[K     |██████▊                         | 102 kB 7.5 MB/s eta 0:00:01\r\u001b[K     |███████▍                        | 112 kB 7.5 MB/s eta 0:00:01\r\u001b[K     |████████                        | 122 kB 7.5 MB/s eta 0:00:01\r\u001b[K     |████████▊                       | 133 kB 7.5 MB/s eta 0:00:01\r\u001b[K     |█████████▍                      | 143 kB 7.5 MB/s eta 0:00:01\r\u001b[K     |██████████                      | 153 kB 7.5 MB/s eta 0:00:01\r\u001b[K     |██████████▊                     | 163 kB 7.5 MB/s eta 0:00:01\r\u001b[K     |███████████▍                    | 174 kB 7.5 MB/s eta 0:00:01\r\u001b[K     |████████████                    | 184 kB 7.5 MB/s eta 0:00:01\r\u001b[K     |████████████▊                   | 194 kB 7.5 MB/s eta 0:00:01\r\u001b[K     |█████████████▍                  | 204 kB 7.5 MB/s eta 0:00:01\r\u001b[K     |██████████████                  | 215 kB 7.5 MB/s eta 0:00:01\r\u001b[K     |██████████████▊                 | 225 kB 7.5 MB/s eta 0:00:01\r\u001b[K     |███████████████▍                | 235 kB 7.5 MB/s eta 0:00:01\r\u001b[K     |████████████████                | 245 kB 7.5 MB/s eta 0:00:01\r\u001b[K     |████████████████▊               | 256 kB 7.5 MB/s eta 0:00:01\r\u001b[K     |█████████████████▍              | 266 kB 7.5 MB/s eta 0:00:01\r\u001b[K     |██████████████████▏             | 276 kB 7.5 MB/s eta 0:00:01\r\u001b[K     |██████████████████▉             | 286 kB 7.5 MB/s eta 0:00:01\r\u001b[K     |███████████████████▌            | 296 kB 7.5 MB/s eta 0:00:01\r\u001b[K     |████████████████████▏           | 307 kB 7.5 MB/s eta 0:00:01\r\u001b[K     |████████████████████▉           | 317 kB 7.5 MB/s eta 0:00:01\r\u001b[K     |█████████████████████▌          | 327 kB 7.5 MB/s eta 0:00:01\r\u001b[K     |██████████████████████▏         | 337 kB 7.5 MB/s eta 0:00:01\r\u001b[K     |██████████████████████▉         | 348 kB 7.5 MB/s eta 0:00:01\r\u001b[K     |███████████████████████▌        | 358 kB 7.5 MB/s eta 0:00:01\r\u001b[K     |████████████████████████▏       | 368 kB 7.5 MB/s eta 0:00:01\r\u001b[K     |████████████████████████▉       | 378 kB 7.5 MB/s eta 0:00:01\r\u001b[K     |█████████████████████████▌      | 389 kB 7.5 MB/s eta 0:00:01\r\u001b[K     |██████████████████████████▏     | 399 kB 7.5 MB/s eta 0:00:01\r\u001b[K     |██████████████████████████▉     | 409 kB 7.5 MB/s eta 0:00:01\r\u001b[K     |███████████████████████████▌    | 419 kB 7.5 MB/s eta 0:00:01\r\u001b[K     |████████████████████████████▏   | 430 kB 7.5 MB/s eta 0:00:01\r\u001b[K     |████████████████████████████▉   | 440 kB 7.5 MB/s eta 0:00:01\r\u001b[K     |█████████████████████████████▌  | 450 kB 7.5 MB/s eta 0:00:01\r\u001b[K     |██████████████████████████████▏ | 460 kB 7.5 MB/s eta 0:00:01\r\u001b[K     |██████████████████████████████▉ | 471 kB 7.5 MB/s eta 0:00:01\r\u001b[K     |███████████████████████████████▌| 481 kB 7.5 MB/s eta 0:00:01\r\u001b[K     |████████████████████████████████| 488 kB 7.5 MB/s \n",
            "\u001b[?25hInstalling collected packages: mecab-python3\n",
            "Successfully installed mecab-python3-1.0.4\n"
          ]
        }
      ]
    },
    {
      "cell_type": "code",
      "metadata": {
        "id": "NXhJJWhNgS-b",
        "colab": {
          "base_uri": "https://localhost:8080/"
        },
        "outputId": "742aee3f-553c-4dac-ea14-3c7f50815bc2"
      },
      "source": [
        "!pip install fugashi[unidic-lite]"
      ],
      "execution_count": 11,
      "outputs": [
        {
          "output_type": "stream",
          "name": "stdout",
          "text": [
            "Collecting fugashi[unidic-lite]\n",
            "  Downloading fugashi-1.1.1-cp37-cp37m-manylinux_2_5_x86_64.manylinux1_x86_64.whl (490 kB)\n",
            "\u001b[K     |████████████████████████████████| 490 kB 6.9 MB/s \n",
            "\u001b[?25hCollecting unidic-lite\n",
            "  Downloading unidic-lite-1.0.8.tar.gz (47.4 MB)\n",
            "\u001b[K     |████████████████████████████████| 47.4 MB 1.4 MB/s \n",
            "\u001b[?25hBuilding wheels for collected packages: unidic-lite\n",
            "  Building wheel for unidic-lite (setup.py) ... \u001b[?25l\u001b[?25hdone\n",
            "  Created wheel for unidic-lite: filename=unidic_lite-1.0.8-py3-none-any.whl size=47658836 sha256=8eaa92ce334981c05a8ddd91396e2353623db267c00537791e194481b41c6c3f\n",
            "  Stored in directory: /root/.cache/pip/wheels/de/69/b1/112140b599f2b13f609d485a99e357ba68df194d2079c5b1a2\n",
            "Successfully built unidic-lite\n",
            "Installing collected packages: unidic-lite, fugashi\n",
            "Successfully installed fugashi-1.1.1 unidic-lite-1.0.8\n"
          ]
        }
      ]
    },
    {
      "cell_type": "code",
      "metadata": {
        "id": "Ua13p15FEPIR",
        "colab": {
          "base_uri": "https://localhost:8080/",
          "height": 1000
        },
        "outputId": "77d5628b-b2c3-4fc8-d88e-efe84fa62b73"
      },
      "source": [
        "!pip install -U pip setuptools wheel\n",
        "!pip install -U spacy\n",
        "!python -m spacy download ja_core_news_sm"
      ],
      "execution_count": 12,
      "outputs": [
        {
          "output_type": "stream",
          "name": "stdout",
          "text": [
            "Requirement already satisfied: pip in /usr/local/lib/python3.7/dist-packages (21.1.3)\n",
            "Collecting pip\n",
            "  Downloading pip-21.3.1-py3-none-any.whl (1.7 MB)\n",
            "\u001b[K     |████████████████████████████████| 1.7 MB 7.2 MB/s \n",
            "\u001b[?25hRequirement already satisfied: setuptools in /usr/local/lib/python3.7/dist-packages (57.4.0)\n",
            "Collecting setuptools\n",
            "  Downloading setuptools-60.5.0-py3-none-any.whl (958 kB)\n",
            "\u001b[K     |████████████████████████████████| 958 kB 50.2 MB/s \n",
            "\u001b[?25hRequirement already satisfied: wheel in /usr/local/lib/python3.7/dist-packages (0.37.1)\n",
            "Installing collected packages: setuptools, pip\n",
            "  Attempting uninstall: setuptools\n",
            "    Found existing installation: setuptools 57.4.0\n",
            "    Uninstalling setuptools-57.4.0:\n",
            "      Successfully uninstalled setuptools-57.4.0\n",
            "  Attempting uninstall: pip\n",
            "    Found existing installation: pip 21.1.3\n",
            "    Uninstalling pip-21.1.3:\n",
            "      Successfully uninstalled pip-21.1.3\n",
            "\u001b[31mERROR: pip's dependency resolver does not currently take into account all the packages that are installed. This behaviour is the source of the following dependency conflicts.\n",
            "datascience 0.10.6 requires folium==0.2.1, but you have folium 0.8.3 which is incompatible.\u001b[0m\n",
            "Successfully installed pip-21.3.1 setuptools-60.5.0\n"
          ]
        },
        {
          "output_type": "display_data",
          "data": {
            "application/vnd.colab-display-data+json": {
              "pip_warning": {
                "packages": [
                  "pkg_resources"
                ]
              }
            }
          },
          "metadata": {}
        },
        {
          "output_type": "stream",
          "name": "stdout",
          "text": [
            "Requirement already satisfied: spacy in /usr/local/lib/python3.7/dist-packages (2.2.4)\n",
            "Collecting spacy\n",
            "  Downloading spacy-3.2.1-cp37-cp37m-manylinux_2_17_x86_64.manylinux2014_x86_64.whl (6.0 MB)\n",
            "     |████████████████████████████████| 6.0 MB 6.5 MB/s            \n",
            "\u001b[?25hCollecting srsly<3.0.0,>=2.4.1\n",
            "  Downloading srsly-2.4.2-cp37-cp37m-manylinux_2_17_x86_64.manylinux2014_x86_64.whl (451 kB)\n",
            "     |████████████████████████████████| 451 kB 56.1 MB/s            \n",
            "\u001b[?25hRequirement already satisfied: typing-extensions<4.0.0.0,>=3.7.4 in /usr/local/lib/python3.7/dist-packages (from spacy) (3.10.0.2)\n",
            "Collecting thinc<8.1.0,>=8.0.12\n",
            "  Downloading thinc-8.0.13-cp37-cp37m-manylinux_2_17_x86_64.manylinux2014_x86_64.whl (628 kB)\n",
            "     |████████████████████████████████| 628 kB 76.4 MB/s            \n",
            "\u001b[?25hRequirement already satisfied: wasabi<1.1.0,>=0.8.1 in /usr/local/lib/python3.7/dist-packages (from spacy) (0.9.0)\n",
            "Collecting pydantic!=1.8,!=1.8.1,<1.9.0,>=1.7.4\n",
            "  Downloading pydantic-1.8.2-cp37-cp37m-manylinux2014_x86_64.whl (10.1 MB)\n",
            "     |████████████████████████████████| 10.1 MB 23.3 MB/s            \n",
            "\u001b[?25hRequirement already satisfied: setuptools in /usr/local/lib/python3.7/dist-packages (from spacy) (60.5.0)\n",
            "Collecting langcodes<4.0.0,>=3.2.0\n",
            "  Downloading langcodes-3.3.0-py3-none-any.whl (181 kB)\n",
            "     |████████████████████████████████| 181 kB 80.8 MB/s            \n",
            "\u001b[?25hRequirement already satisfied: requests<3.0.0,>=2.13.0 in /usr/local/lib/python3.7/dist-packages (from spacy) (2.23.0)\n",
            "Requirement already satisfied: numpy>=1.15.0 in /usr/local/lib/python3.7/dist-packages (from spacy) (1.19.5)\n",
            "Requirement already satisfied: preshed<3.1.0,>=3.0.2 in /usr/local/lib/python3.7/dist-packages (from spacy) (3.0.6)\n",
            "Collecting catalogue<2.1.0,>=2.0.6\n",
            "  Downloading catalogue-2.0.6-py3-none-any.whl (17 kB)\n",
            "Collecting typer<0.5.0,>=0.3.0\n",
            "  Downloading typer-0.4.0-py3-none-any.whl (27 kB)\n",
            "Requirement already satisfied: blis<0.8.0,>=0.4.0 in /usr/local/lib/python3.7/dist-packages (from spacy) (0.4.1)\n",
            "Collecting pathy>=0.3.5\n",
            "  Downloading pathy-0.6.1-py3-none-any.whl (42 kB)\n",
            "     |████████████████████████████████| 42 kB 1.7 MB/s             \n",
            "\u001b[?25hCollecting spacy-legacy<3.1.0,>=3.0.8\n",
            "  Downloading spacy_legacy-3.0.8-py2.py3-none-any.whl (14 kB)\n",
            "Collecting spacy-loggers<2.0.0,>=1.0.0\n",
            "  Downloading spacy_loggers-1.0.1-py3-none-any.whl (7.0 kB)\n",
            "Requirement already satisfied: tqdm<5.0.0,>=4.38.0 in /usr/local/lib/python3.7/dist-packages (from spacy) (4.62.3)\n",
            "Requirement already satisfied: cymem<2.1.0,>=2.0.2 in /usr/local/lib/python3.7/dist-packages (from spacy) (2.0.6)\n",
            "Requirement already satisfied: jinja2 in /usr/local/lib/python3.7/dist-packages (from spacy) (2.11.3)\n",
            "Requirement already satisfied: murmurhash<1.1.0,>=0.28.0 in /usr/local/lib/python3.7/dist-packages (from spacy) (1.0.6)\n",
            "Requirement already satisfied: packaging>=20.0 in /usr/local/lib/python3.7/dist-packages (from spacy) (21.3)\n",
            "Requirement already satisfied: zipp>=0.5 in /usr/local/lib/python3.7/dist-packages (from catalogue<2.1.0,>=2.0.6->spacy) (3.7.0)\n",
            "Requirement already satisfied: pyparsing!=3.0.5,>=2.0.2 in /usr/local/lib/python3.7/dist-packages (from packaging>=20.0->spacy) (3.0.6)\n",
            "Requirement already satisfied: smart-open<6.0.0,>=5.0.0 in /usr/local/lib/python3.7/dist-packages (from pathy>=0.3.5->spacy) (5.2.1)\n",
            "Requirement already satisfied: urllib3!=1.25.0,!=1.25.1,<1.26,>=1.21.1 in /usr/local/lib/python3.7/dist-packages (from requests<3.0.0,>=2.13.0->spacy) (1.24.3)\n",
            "Requirement already satisfied: idna<3,>=2.5 in /usr/local/lib/python3.7/dist-packages (from requests<3.0.0,>=2.13.0->spacy) (2.10)\n",
            "Requirement already satisfied: certifi>=2017.4.17 in /usr/local/lib/python3.7/dist-packages (from requests<3.0.0,>=2.13.0->spacy) (2021.10.8)\n",
            "Requirement already satisfied: chardet<4,>=3.0.2 in /usr/local/lib/python3.7/dist-packages (from requests<3.0.0,>=2.13.0->spacy) (3.0.4)\n",
            "Requirement already satisfied: click<9.0.0,>=7.1.1 in /usr/local/lib/python3.7/dist-packages (from typer<0.5.0,>=0.3.0->spacy) (7.1.2)\n",
            "Requirement already satisfied: MarkupSafe>=0.23 in /usr/local/lib/python3.7/dist-packages (from jinja2->spacy) (2.0.1)\n",
            "Installing collected packages: catalogue, typer, srsly, pydantic, thinc, spacy-loggers, spacy-legacy, pathy, langcodes, spacy\n",
            "  Attempting uninstall: catalogue\n",
            "    Found existing installation: catalogue 1.0.0\n",
            "    Uninstalling catalogue-1.0.0:\n",
            "      Successfully uninstalled catalogue-1.0.0\n",
            "  Attempting uninstall: srsly\n",
            "    Found existing installation: srsly 1.0.5\n",
            "    Uninstalling srsly-1.0.5:\n",
            "      Successfully uninstalled srsly-1.0.5\n",
            "  Attempting uninstall: thinc\n",
            "    Found existing installation: thinc 7.4.0\n",
            "    Uninstalling thinc-7.4.0:\n",
            "      Successfully uninstalled thinc-7.4.0\n",
            "  Attempting uninstall: spacy\n",
            "    Found existing installation: spacy 2.2.4\n",
            "    Uninstalling spacy-2.2.4:\n",
            "      Successfully uninstalled spacy-2.2.4\n",
            "Successfully installed catalogue-2.0.6 langcodes-3.3.0 pathy-0.6.1 pydantic-1.8.2 spacy-3.2.1 spacy-legacy-3.0.8 spacy-loggers-1.0.1 srsly-2.4.2 thinc-8.0.13 typer-0.4.0\n",
            "\u001b[33mWARNING: Running pip as the 'root' user can result in broken permissions and conflicting behaviour with the system package manager. It is recommended to use a virtual environment instead: https://pip.pypa.io/warnings/venv\u001b[0m\n",
            "Collecting ja-core-news-sm==3.2.0\n",
            "  Downloading https://github.com/explosion/spacy-models/releases/download/ja_core_news_sm-3.2.0/ja_core_news_sm-3.2.0-py3-none-any.whl (13.0 MB)\n",
            "     |████████████████████████████████| 13.0 MB 7.7 MB/s            \n",
            "\u001b[?25hCollecting sudachidict-core>=20200330\n",
            "  Downloading SudachiDict-core-20211220.tar.gz (9.1 kB)\n",
            "  Preparing metadata (setup.py) ... \u001b[?25l\u001b[?25hdone\n",
            "Collecting sudachipy>=0.4.9\n",
            "  Downloading SudachiPy-0.6.2-cp37-cp37m-manylinux_2_5_x86_64.manylinux1_x86_64.manylinux_2_12_x86_64.manylinux2010_x86_64.whl (2.2 MB)\n",
            "     |████████████████████████████████| 2.2 MB 8.6 MB/s            \n",
            "\u001b[?25hRequirement already satisfied: spacy<3.3.0,>=3.2.0 in /usr/local/lib/python3.7/dist-packages (from ja-core-news-sm==3.2.0) (3.2.1)\n",
            "Requirement already satisfied: tqdm<5.0.0,>=4.38.0 in /usr/local/lib/python3.7/dist-packages (from spacy<3.3.0,>=3.2.0->ja-core-news-sm==3.2.0) (4.62.3)\n",
            "Requirement already satisfied: langcodes<4.0.0,>=3.2.0 in /usr/local/lib/python3.7/dist-packages (from spacy<3.3.0,>=3.2.0->ja-core-news-sm==3.2.0) (3.3.0)\n",
            "Requirement already satisfied: pathy>=0.3.5 in /usr/local/lib/python3.7/dist-packages (from spacy<3.3.0,>=3.2.0->ja-core-news-sm==3.2.0) (0.6.1)\n",
            "Requirement already satisfied: cymem<2.1.0,>=2.0.2 in /usr/local/lib/python3.7/dist-packages (from spacy<3.3.0,>=3.2.0->ja-core-news-sm==3.2.0) (2.0.6)\n",
            "Requirement already satisfied: typer<0.5.0,>=0.3.0 in /usr/local/lib/python3.7/dist-packages (from spacy<3.3.0,>=3.2.0->ja-core-news-sm==3.2.0) (0.4.0)\n",
            "Requirement already satisfied: wasabi<1.1.0,>=0.8.1 in /usr/local/lib/python3.7/dist-packages (from spacy<3.3.0,>=3.2.0->ja-core-news-sm==3.2.0) (0.9.0)\n",
            "Requirement already satisfied: murmurhash<1.1.0,>=0.28.0 in /usr/local/lib/python3.7/dist-packages (from spacy<3.3.0,>=3.2.0->ja-core-news-sm==3.2.0) (1.0.6)\n",
            "Requirement already satisfied: spacy-legacy<3.1.0,>=3.0.8 in /usr/local/lib/python3.7/dist-packages (from spacy<3.3.0,>=3.2.0->ja-core-news-sm==3.2.0) (3.0.8)\n",
            "Requirement already satisfied: spacy-loggers<2.0.0,>=1.0.0 in /usr/local/lib/python3.7/dist-packages (from spacy<3.3.0,>=3.2.0->ja-core-news-sm==3.2.0) (1.0.1)\n",
            "Requirement already satisfied: blis<0.8.0,>=0.4.0 in /usr/local/lib/python3.7/dist-packages (from spacy<3.3.0,>=3.2.0->ja-core-news-sm==3.2.0) (0.4.1)\n",
            "Requirement already satisfied: setuptools in /usr/local/lib/python3.7/dist-packages (from spacy<3.3.0,>=3.2.0->ja-core-news-sm==3.2.0) (60.5.0)\n",
            "Requirement already satisfied: typing-extensions<4.0.0.0,>=3.7.4 in /usr/local/lib/python3.7/dist-packages (from spacy<3.3.0,>=3.2.0->ja-core-news-sm==3.2.0) (3.10.0.2)\n",
            "Requirement already satisfied: packaging>=20.0 in /usr/local/lib/python3.7/dist-packages (from spacy<3.3.0,>=3.2.0->ja-core-news-sm==3.2.0) (21.3)\n",
            "Requirement already satisfied: preshed<3.1.0,>=3.0.2 in /usr/local/lib/python3.7/dist-packages (from spacy<3.3.0,>=3.2.0->ja-core-news-sm==3.2.0) (3.0.6)\n",
            "Requirement already satisfied: pydantic!=1.8,!=1.8.1,<1.9.0,>=1.7.4 in /usr/local/lib/python3.7/dist-packages (from spacy<3.3.0,>=3.2.0->ja-core-news-sm==3.2.0) (1.8.2)\n",
            "Requirement already satisfied: catalogue<2.1.0,>=2.0.6 in /usr/local/lib/python3.7/dist-packages (from spacy<3.3.0,>=3.2.0->ja-core-news-sm==3.2.0) (2.0.6)\n",
            "Requirement already satisfied: jinja2 in /usr/local/lib/python3.7/dist-packages (from spacy<3.3.0,>=3.2.0->ja-core-news-sm==3.2.0) (2.11.3)\n",
            "Requirement already satisfied: thinc<8.1.0,>=8.0.12 in /usr/local/lib/python3.7/dist-packages (from spacy<3.3.0,>=3.2.0->ja-core-news-sm==3.2.0) (8.0.13)\n",
            "Requirement already satisfied: requests<3.0.0,>=2.13.0 in /usr/local/lib/python3.7/dist-packages (from spacy<3.3.0,>=3.2.0->ja-core-news-sm==3.2.0) (2.23.0)\n",
            "Requirement already satisfied: numpy>=1.15.0 in /usr/local/lib/python3.7/dist-packages (from spacy<3.3.0,>=3.2.0->ja-core-news-sm==3.2.0) (1.19.5)\n",
            "Requirement already satisfied: srsly<3.0.0,>=2.4.1 in /usr/local/lib/python3.7/dist-packages (from spacy<3.3.0,>=3.2.0->ja-core-news-sm==3.2.0) (2.4.2)\n",
            "Requirement already satisfied: zipp>=0.5 in /usr/local/lib/python3.7/dist-packages (from catalogue<2.1.0,>=2.0.6->spacy<3.3.0,>=3.2.0->ja-core-news-sm==3.2.0) (3.7.0)\n",
            "Requirement already satisfied: pyparsing!=3.0.5,>=2.0.2 in /usr/local/lib/python3.7/dist-packages (from packaging>=20.0->spacy<3.3.0,>=3.2.0->ja-core-news-sm==3.2.0) (3.0.6)\n",
            "Requirement already satisfied: smart-open<6.0.0,>=5.0.0 in /usr/local/lib/python3.7/dist-packages (from pathy>=0.3.5->spacy<3.3.0,>=3.2.0->ja-core-news-sm==3.2.0) (5.2.1)\n",
            "Requirement already satisfied: certifi>=2017.4.17 in /usr/local/lib/python3.7/dist-packages (from requests<3.0.0,>=2.13.0->spacy<3.3.0,>=3.2.0->ja-core-news-sm==3.2.0) (2021.10.8)\n",
            "Requirement already satisfied: idna<3,>=2.5 in /usr/local/lib/python3.7/dist-packages (from requests<3.0.0,>=2.13.0->spacy<3.3.0,>=3.2.0->ja-core-news-sm==3.2.0) (2.10)\n",
            "Requirement already satisfied: urllib3!=1.25.0,!=1.25.1,<1.26,>=1.21.1 in /usr/local/lib/python3.7/dist-packages (from requests<3.0.0,>=2.13.0->spacy<3.3.0,>=3.2.0->ja-core-news-sm==3.2.0) (1.24.3)\n",
            "Requirement already satisfied: chardet<4,>=3.0.2 in /usr/local/lib/python3.7/dist-packages (from requests<3.0.0,>=2.13.0->spacy<3.3.0,>=3.2.0->ja-core-news-sm==3.2.0) (3.0.4)\n",
            "Requirement already satisfied: click<9.0.0,>=7.1.1 in /usr/local/lib/python3.7/dist-packages (from typer<0.5.0,>=0.3.0->spacy<3.3.0,>=3.2.0->ja-core-news-sm==3.2.0) (7.1.2)\n",
            "Requirement already satisfied: MarkupSafe>=0.23 in /usr/local/lib/python3.7/dist-packages (from jinja2->spacy<3.3.0,>=3.2.0->ja-core-news-sm==3.2.0) (2.0.1)\n",
            "Building wheels for collected packages: sudachidict-core\n",
            "  Building wheel for sudachidict-core (setup.py) ... \u001b[?25l\u001b[?25hdone\n",
            "  Created wheel for sudachidict-core: filename=SudachiDict_core-20211220-py3-none-any.whl size=71565353 sha256=9825eb9b8cef1b28d768df6b42c2dce6957599ca8ae4f4ea40e8dfe949d454c0\n",
            "  Stored in directory: /root/.cache/pip/wheels/17/6d/f6/f9451cbfc76ffdf985af12239191ca20721f1da5aba5005eb0\n",
            "Successfully built sudachidict-core\n",
            "Installing collected packages: sudachipy, sudachidict-core, ja-core-news-sm\n",
            "Successfully installed ja-core-news-sm-3.2.0 sudachidict-core-20211220 sudachipy-0.6.2\n",
            "\u001b[33mWARNING: Running pip as the 'root' user can result in broken permissions and conflicting behaviour with the system package manager. It is recommended to use a virtual environment instead: https://pip.pypa.io/warnings/venv\u001b[0m\n",
            "\u001b[38;5;2m✔ Download and installation successful\u001b[0m\n",
            "You can now load the package via spacy.load('ja_core_news_sm')\n"
          ]
        }
      ]
    },
    {
      "cell_type": "markdown",
      "metadata": {
        "id": "u0mRJHgKGefO"
      },
      "source": [
        "Removing stopwords"
      ]
    },
    {
      "cell_type": "code",
      "metadata": {
        "id": "apvAwCqTEh94",
        "colab": {
          "base_uri": "https://localhost:8080/"
        },
        "outputId": "06bfbadd-b8b8-47ff-e1ce-7fc1b973b150"
      },
      "source": [
        "import spacy\n",
        "\n",
        "nlp = spacy.load('ja_core_news_sm')\n",
        "stop_words_spacy = nlp.Defaults.stop_words\n",
        "print(len(stop_words_spacy))\n",
        "print(stop_words_spacy)"
      ],
      "execution_count": 13,
      "outputs": [
        {
          "output_type": "stream",
          "name": "stdout",
          "text": [
            "154\n",
            "{'あれ', 'ため', 'ます', 'ほぼ', 'いわ', 'ほか', 'まで', 'どう', 'もと', 'つ', 'しよう', 'いい', 'せ', 'うち', 'より', 'せい', 'ば', 'ただし', 'とも', 'ある', 'なり', 'か', 'かけ', 'し', 'です', 'なる', 'た', 'はじめ', 'よる', 'ま', 'で', 'と', 'なし', 'こと', 'おり', 'ね', 'この', 'らしい', 'かつ', 'きっかけ', 'それ', 'べき', 'は', 'ここ', 'くる', 'しかし', 'ちゃん', 'あっ', 'を', 'やっ', 'あり', 'ほとんど', 'お', 'れる', 'あまり', 'だけ', 'そして', 'など', 'いっ', 'も', 'そこ', 'ご', 'て', 'ところ', 'こ', 'ち', 'おら', 'よ', 'かなり', 'ない', 'な', 'み', 'なけれ', 'まま', 'よう', 'ぬ', 'から', 'さん', 'なかっ', 'なっ', 'できる', 'られる', 'ひと', 'つけ', 'もう', 'こう', 'よっ', 'せる', 'もの', 'き', 'だ', 'これ', 'や', 'おい', 'ら', 'する', 'さ', 'しか', 'その', 'のち', 'とき', 'え', 'つつ', 'たち', 'ず', 'それぞれ', 'すぐ', 'られ', 'さらに', 'たり', 'あ', 'おけ', 'たい', 'かつて', 'なら', 'ながら', 'しまっ', 'つい', 'とっ', 'でき', 'よく', 'す', 'い', 'の', 'いる', 'にて', 'へ', 'ん', 'いつ', 'すべて', 'に', 'ぶり', 'れ', 'しまう', 'なく', 'なお', 'のみ', 'たら', 'る', 'ごと', 'だっ', '一', 'が', 'いく', 'および', 'ほど', 'いずれ', 'くん', 'そう', 'よれ', 'もっ', 'いう', 'また', 'あるいは'}\n"
          ]
        }
      ]
    },
    {
      "cell_type": "code",
      "metadata": {
        "id": "pwrehuGrGbqx",
        "colab": {
          "base_uri": "https://localhost:8080/"
        },
        "outputId": "9d698e0e-b883-4ab1-bb9a-ff5943a9c649"
      },
      "source": [
        "tokenized_text_spacy = nlp(japanese_text)\n",
        "tokenized_text_without_stopwords = [i for i in tokenized_text_spacy if not i in stop_words_spacy]\n",
        "print(tokenized_text_without_stopwords)"
      ],
      "execution_count": 14,
      "outputs": [
        {
          "output_type": "stream",
          "name": "stdout",
          "text": [
            "[$, ベット, し, て, い, た, 場合, に, は, $, の, 配当, を, 得, られる, 。, \n",
            "    , なお, 、, 形, の, うち, -, の, 両, は, 当時, 丸ノ内, 線, 方南町, 支線, 用, で, あり, 、, これ, の, 代替, に, は, N, 形, 投入, に, より, 形, を, 両, (, -, ), 捻出, し, て, 対応, し, て, いる, 。, \n",
            "    , コンセプト, は, 「, 時間, 遊べる, おまけ, 」, 。, \n",
            "    , なお, 系, ･, 次, 車, の, 床面, 高, さ, は, 従前, 通り, の, mm, で, ある, 。, \n",
            "    , ゴチ, ・, ・, で, は, MC, を, 担当, 。, \n",
            "    , !, 番, 目, の, 魔物, （, 大海, 恵, ）, 年, *, 劇場, 版, 金, 色, の, ガッシュベル, !, \n",
            "    , 年, に, 誕生, し, た, 人物, 及び, 著名, な, 動物, 。]\n"
          ]
        }
      ]
    },
    {
      "cell_type": "markdown",
      "metadata": {
        "id": "mywO8_YjJXXr"
      },
      "source": [
        "Removing punctuation"
      ]
    },
    {
      "cell_type": "code",
      "metadata": {
        "id": "3g4dBNDwgMHy",
        "colab": {
          "base_uri": "https://localhost:8080/"
        },
        "outputId": "b8758c35-2187-4ee5-9850-1ef597f762b2"
      },
      "source": [
        "import spacy\n",
        "for word in tokenized_text_without_stopwords:\n",
        "    if word.is_punct:\n",
        "        print(word, word.lemma_, word.pos_)"
      ],
      "execution_count": 15,
      "outputs": [
        {
          "output_type": "stream",
          "name": "stdout",
          "text": [
            "。 。 PUNCT\n",
            "、 、 PUNCT\n",
            "- － SYM\n",
            "、 、 PUNCT\n",
            "( （ PUNCT\n",
            "- － SYM\n",
            ") ) PUNCT\n",
            "。 。 PUNCT\n",
            "「 「 PUNCT\n",
            "」 」 PUNCT\n",
            "。 。 PUNCT\n",
            "･ ・ SYM\n",
            "。 。 PUNCT\n",
            "・ ・ SYM\n",
            "・ ・ SYM\n",
            "。 。 PUNCT\n",
            "! ! PUNCT\n",
            "（ （ NOUN\n",
            "） ) NOUN\n",
            "* ＊ PUNCT\n",
            "! ! PUNCT\n",
            "。 。 PUNCT\n"
          ]
        }
      ]
    },
    {
      "cell_type": "code",
      "metadata": {
        "id": "hO2krQx8JZZe",
        "colab": {
          "base_uri": "https://localhost:8080/"
        },
        "outputId": "c08af48b-39c7-4199-da9d-65b5986d1a93"
      },
      "source": [
        "for word in tokenized_text_without_stopwords:\n",
        "    if word.is_punct == False:\n",
        "        print(word, word.lemma_, word.pos_)"
      ],
      "execution_count": 16,
      "outputs": [
        {
          "output_type": "stream",
          "name": "stdout",
          "text": [
            "$ $ PROPN\n",
            "ベット ベット PROPN\n",
            "し する AUX\n",
            "て て SCONJ\n",
            "い いる VERB\n",
            "た た AUX\n",
            "場合 場合 NOUN\n",
            "に に ADP\n",
            "は は ADP\n",
            "$ ＄ NOUN\n",
            "の の ADP\n",
            "配当 配当 NOUN\n",
            "を を ADP\n",
            "得 得る VERB\n",
            "られる られる AUX\n",
            "\n",
            "     \n",
            "     SPACE\n",
            "なお なお CCONJ\n",
            "形 形 NOUN\n",
            "の の ADP\n",
            "うち うち NOUN\n",
            "の の ADP\n",
            "両 両 NOUN\n",
            "は は ADP\n",
            "当時 当時 ADV\n",
            "丸ノ内 丸ノ内 PROPN\n",
            "線 線 NOUN\n",
            "方南町 方南町 NOUN\n",
            "支線 支線 NOUN\n",
            "用 用 NOUN\n",
            "で だ AUX\n",
            "あり ある VERB\n",
            "これ これ PRON\n",
            "の の ADP\n",
            "代替 代替 NOUN\n",
            "に に ADP\n",
            "は は ADP\n",
            "N N NOUN\n",
            "形 形 NOUN\n",
            "投入 投入 NOUN\n",
            "に に ADP\n",
            "より よる VERB\n",
            "形 形 NOUN\n",
            "を を ADP\n",
            "両 両 NOUN\n",
            "捻出 捻出 VERB\n",
            "し する AUX\n",
            "て て SCONJ\n",
            "対応 対応 VERB\n",
            "し する AUX\n",
            "て て SCONJ\n",
            "いる いる VERB\n",
            "\n",
            "     \n",
            "     SPACE\n",
            "コンセプト コンセプト NOUN\n",
            "は は ADP\n",
            "時間 時間 NOUN\n",
            "遊べる 遊べる VERB\n",
            "おまけ おまけ NOUN\n",
            "\n",
            "     \n",
            "     SPACE\n",
            "なお なお CCONJ\n",
            "系 系 NOUN\n",
            "次 次 NOUN\n",
            "車 車 NOUN\n",
            "の の ADP\n",
            "床面 床面 PROPN\n",
            "高 高い ADJ\n",
            "さ さ PART\n",
            "は は ADP\n",
            "従前 従前 NOUN\n",
            "通り 通り NOUN\n",
            "の の ADP\n",
            "mm mm NOUN\n",
            "で だ AUX\n",
            "ある ある VERB\n",
            "\n",
            "     \n",
            "     SPACE\n",
            "ゴチ ゴチ NOUN\n",
            "で で ADP\n",
            "は は ADP\n",
            "MC MC NOUN\n",
            "を を ADP\n",
            "担当 担当 NOUN\n",
            "\n",
            "     \n",
            "     SPACE\n",
            "番 番 NOUN\n",
            "目 目 NOUN\n",
            "の の ADP\n",
            "魔物 魔物 NOUN\n",
            "大海 大海 PROPN\n",
            "恵 恵 NOUN\n",
            "年 年 NOUN\n",
            "劇場 劇場 NOUN\n",
            "版 版 NOUN\n",
            "金 金 NOUN\n",
            "色 色 NOUN\n",
            "の の ADP\n",
            "ガッシュベル ガッシュベル NOUN\n",
            "\n",
            "     \n",
            "     SPACE\n",
            "年 年 NOUN\n",
            "に に ADP\n",
            "誕生 誕生 VERB\n",
            "し する AUX\n",
            "た た AUX\n",
            "人物 人物 NOUN\n",
            "及び 及び CCONJ\n",
            "著名 著名 ADJ\n",
            "な だ AUX\n",
            "動物 動物 NOUN\n"
          ]
        }
      ]
    },
    {
      "cell_type": "markdown",
      "metadata": {
        "id": "vgozL531Z2Ju"
      },
      "source": [
        "# Assignment\n",
        "\n",
        "To be uploaded here: https://forms.gle/wLsjCWnxK7w8GPvt9\n",
        "\n",
        "Choose samples from 2 languages and preprocess the texts (normalization, tokenization, lematization, etc.).\n",
        "\n",
        "Try to use spacy or find other resources and tools for the chosen languages.\n",
        "\n",
        "Also mention if the language you have choosen needs specific preprocessing.\n",
        "\n",
        "**Please add the resources you used in the doc**: https://docs.google.com/document/d/1c5sqPfgSioGzLZkRv4yWw7DWiiQC96QHw34ZRqcDiSY/edit?usp=sharing for further reference.\n",
        "\n",
        "\n",
        "Questions: If you have chosen a language you are fluent in, how well did the tools work on this language? What problems did you observed (e.g. problems with tokenization, etc.)\n",
        "\n",
        "## Data\n",
        "\n",
        "Data can be downloaded from the resources below.\n"
      ]
    },
    {
      "cell_type": "code",
      "metadata": {
        "id": "PNZ0qRZ1JlIJ",
        "colab": {
          "base_uri": "https://localhost:8080/"
        },
        "outputId": "c3513d54-c9ad-4cc7-9f9f-ceb909f4a158"
      },
      "source": [
        "###write the code for your assignment here\n",
        "from pprint import pprint\n",
        "russian_text = ''' А ведь именно здесь бывает много туристов.\n",
        "\tА ведь Прохоров уже обещал электромобиль, но где он?\n",
        "\tАвиакомпания \"Белавиа\" объявила спецпредложение на рейсы маршрута Минск-Вена-Минск, сообщает БЕЛТА со ссылкой на официальный сайт авиаперевозчика.\n",
        "\tАвиакомпания «Победа» планирует вернуть в работу 30 самолетов до конца июля.\n",
        "\tАвиаторы МЧС Беларуси продолжают нести дежурство как на территории своей страны, так и оказывать помощь в тушении пожаров в горно-лесистой местности в Турции, сообщили БЕЛТА в пресс-службе МЧС.\n",
        "\tАвиация является узкоспециализированной отраслью, особое внимание уделяют знанию точных наук и физической подготовке.\n",
        "\tА в конце года мы поехали в Сирию.\n",
        "  А в Кракове пани Агнешка замуж выходит - и праздничный приём по этому поводу не отменяет.\n",
        "\tА вместо их можно и детскую больницу построить.\n",
        "  '''\n",
        "\n",
        "print(russian_text)"
      ],
      "execution_count": 30,
      "outputs": [
        {
          "output_type": "stream",
          "name": "stdout",
          "text": [
            " А ведь именно здесь бывает много туристов.\n",
            "\tА ведь Прохоров уже обещал электромобиль, но где он?\n",
            "\tАвиакомпания \"Белавиа\" объявила спецпредложение на рейсы маршрута Минск-Вена-Минск, сообщает БЕЛТА со ссылкой на официальный сайт авиаперевозчика.\n",
            "\tАвиакомпания «Победа» планирует вернуть в работу 30 самолетов до конца июля.\n",
            "\tАвиаторы МЧС Беларуси продолжают нести дежурство как на территории своей страны, так и оказывать помощь в тушении пожаров в горно-лесистой местности в Турции, сообщили БЕЛТА в пресс-службе МЧС.\n",
            "\tАвиация является узкоспециализированной отраслью, особое внимание уделяют знанию точных наук и физической подготовке.\n",
            "\tА в конце года мы поехали в Сирию.\n",
            "  А в Кракове пани Агнешка замуж выходит - и праздничный приём по этому поводу не отменяет.\n",
            "\tА вместо их можно и детскую больницу построить.\n",
            "  \n"
          ]
        }
      ]
    },
    {
      "cell_type": "code",
      "source": [
        "# Lower the text\n",
        "russian_text = russian_text.lower()\n",
        "# removing the digits\n",
        "russian_text = ''.join([c for c in russian_text if c.isdigit() == False ])\n",
        "pprint(russian_text)"
      ],
      "metadata": {
        "id": "MkpKA0psbxjg",
        "outputId": "d89808bb-d729-4bed-e7aa-ba62237f3691",
        "colab": {
          "base_uri": "https://localhost:8080/"
        }
      },
      "execution_count": 31,
      "outputs": [
        {
          "output_type": "stream",
          "name": "stdout",
          "text": [
            "(' а ведь именно здесь бывает много туристов.\\n'\n",
            " '\\tа ведь прохоров уже обещал электромобиль, но где он?\\n'\n",
            " '\\tавиакомпания \"белавиа\" объявила спецпредложение на рейсы маршрута '\n",
            " 'минск-вена-минск, сообщает белта со ссылкой на официальный сайт '\n",
            " 'авиаперевозчика.\\n'\n",
            " '\\tавиакомпания «победа» планирует вернуть в работу  самолетов до конца '\n",
            " 'июля.\\n'\n",
            " '\\tавиаторы мчс беларуси продолжают нести дежурство как на территории своей '\n",
            " 'страны, так и оказывать помощь в тушении пожаров в горно-лесистой местности '\n",
            " 'в турции, сообщили белта в пресс-службе мчс.\\n'\n",
            " '\\tавиация является узкоспециализированной отраслью, особое внимание уделяют '\n",
            " 'знанию точных наук и физической подготовке.\\n'\n",
            " '\\tа в конце года мы поехали в сирию.\\n'\n",
            " '  а в кракове пани агнешка замуж выходит - и праздничный приём по этому '\n",
            " 'поводу не отменяет.\\n'\n",
            " '\\tа вместо их можно и детскую больницу построить.\\n'\n",
            " '  ')\n"
          ]
        }
      ]
    },
    {
      "cell_type": "code",
      "source": [
        "import unidecode\n",
        "russian_text  = unidecode.unidecode(russian_text)\n",
        "pprint(russian_text)"
      ],
      "metadata": {
        "id": "X8FnXb4mcJsU",
        "outputId": "c4bf8a79-c681-4da5-b1f9-ffb5a0bbfc22",
        "colab": {
          "base_uri": "https://localhost:8080/"
        }
      },
      "execution_count": 32,
      "outputs": [
        {
          "output_type": "stream",
          "name": "stdout",
          "text": [
            "(\" a ved' imenno zdes' byvaet mnogo turistov.\\n\"\n",
            " \"\\ta ved' prokhorov uzhe obeshchal elektromobil', no gde on?\\n\"\n",
            " '\\taviakompaniia \"belavia\" ob\\'iavila spetspredlozhenie na reisy marshruta '\n",
            " \"minsk-vena-minsk, soobshchaet belta so ssylkoi na ofitsial'nyi sait \"\n",
            " 'aviaperevozchika.\\n'\n",
            " \"\\taviakompaniia <<pobeda>> planiruet vernut' v rabotu  samoletov do kontsa \"\n",
            " 'iiulia.\\n'\n",
            " '\\taviatory mchs belarusi prodolzhaiut nesti dezhurstvo kak na territorii '\n",
            " \"svoei strany, tak i okazyvat' pomoshch' v tushenii pozharov v gorno-lesistoi \"\n",
            " 'mestnosti v turtsii, soobshchili belta v press-sluzhbe mchs.\\n'\n",
            " \"\\taviatsiia iavliaetsia uzkospetsializirovannoi otrasl'iu, osoboe vnimanie \"\n",
            " 'udeliaiut znaniiu tochnykh nauk i fizicheskoi podgotovke.\\n'\n",
            " '\\ta v kontse goda my poekhali v siriiu.\\n'\n",
            " '  a v krakove pani agneshka zamuzh vykhodit - i prazdnichnyi priiom po etomu '\n",
            " 'povodu ne otmeniaet.\\n'\n",
            " \"\\ta vmesto ikh mozhno i detskuiu bol'nitsu postroit'.\\n\"\n",
            " '  ')\n"
          ]
        }
      ]
    },
    {
      "cell_type": "code",
      "source": [
        "from nltk import sent_tokenize\n",
        "import nltk\n",
        "nltk.download('punkt')\n",
        "\n",
        "sent_russian = sent_tokenize(russian_text)\n",
        "sent_russian "
      ],
      "metadata": {
        "id": "0aCoKYvXcSWG",
        "outputId": "0bc3f95c-a36f-4a48-8ef9-3fa8cff7c3f6",
        "colab": {
          "base_uri": "https://localhost:8080/"
        }
      },
      "execution_count": 33,
      "outputs": [
        {
          "output_type": "stream",
          "name": "stdout",
          "text": [
            "[nltk_data] Downloading package punkt to /root/nltk_data...\n",
            "[nltk_data]   Package punkt is already up-to-date!\n"
          ]
        },
        {
          "output_type": "execute_result",
          "data": {
            "text/plain": [
              "[\" a ved' imenno zdes' byvaet mnogo turistov.\",\n",
              " \"a ved' prokhorov uzhe obeshchal elektromobil', no gde on?\",\n",
              " 'aviakompaniia \"belavia\" ob\\'iavila spetspredlozhenie na reisy marshruta minsk-vena-minsk, soobshchaet belta so ssylkoi na ofitsial\\'nyi sait aviaperevozchika.',\n",
              " \"aviakompaniia <<pobeda>> planiruet vernut' v rabotu  samoletov do kontsa iiulia.\",\n",
              " \"aviatory mchs belarusi prodolzhaiut nesti dezhurstvo kak na territorii svoei strany, tak i okazyvat' pomoshch' v tushenii pozharov v gorno-lesistoi mestnosti v turtsii, soobshchili belta v press-sluzhbe mchs.\",\n",
              " \"aviatsiia iavliaetsia uzkospetsializirovannoi otrasl'iu, osoboe vnimanie udeliaiut znaniiu tochnykh nauk i fizicheskoi podgotovke.\",\n",
              " 'a v kontse goda my poekhali v siriiu.',\n",
              " 'a v krakove pani agneshka zamuzh vykhodit - i prazdnichnyi priiom po etomu povodu ne otmeniaet.',\n",
              " \"a vmesto ikh mozhno i detskuiu bol'nitsu postroit'.\"]"
            ]
          },
          "metadata": {},
          "execution_count": 33
        }
      ]
    },
    {
      "cell_type": "code",
      "source": [
        "from nltk import word_tokenize\n",
        "import string\n",
        "\n",
        "\n",
        "sent_russian = [sent.translate(str.maketrans('', '', string.punctuation)) for sent in sent_russian]\n",
        "\n",
        "russian_words = [[word_tokenize(sent) for sent in sent_russian]]\n",
        "pprint(russian_words) "
      ],
      "metadata": {
        "id": "cfCzlgZBcfIf",
        "outputId": "9f64abc0-a596-4878-e241-b9002bcb1240",
        "colab": {
          "base_uri": "https://localhost:8080/"
        }
      },
      "execution_count": 34,
      "outputs": [
        {
          "output_type": "stream",
          "name": "stdout",
          "text": [
            "[[['a', 'ved', 'imenno', 'zdes', 'byvaet', 'mnogo', 'turistov'],\n",
            "  ['a',\n",
            "   'ved',\n",
            "   'prokhorov',\n",
            "   'uzhe',\n",
            "   'obeshchal',\n",
            "   'elektromobil',\n",
            "   'no',\n",
            "   'gde',\n",
            "   'on'],\n",
            "  ['aviakompaniia',\n",
            "   'belavia',\n",
            "   'obiavila',\n",
            "   'spetspredlozhenie',\n",
            "   'na',\n",
            "   'reisy',\n",
            "   'marshruta',\n",
            "   'minskvenaminsk',\n",
            "   'soobshchaet',\n",
            "   'belta',\n",
            "   'so',\n",
            "   'ssylkoi',\n",
            "   'na',\n",
            "   'ofitsialnyi',\n",
            "   'sait',\n",
            "   'aviaperevozchika'],\n",
            "  ['aviakompaniia',\n",
            "   'pobeda',\n",
            "   'planiruet',\n",
            "   'vernut',\n",
            "   'v',\n",
            "   'rabotu',\n",
            "   'samoletov',\n",
            "   'do',\n",
            "   'kontsa',\n",
            "   'iiulia'],\n",
            "  ['aviatory',\n",
            "   'mchs',\n",
            "   'belarusi',\n",
            "   'prodolzhaiut',\n",
            "   'nesti',\n",
            "   'dezhurstvo',\n",
            "   'kak',\n",
            "   'na',\n",
            "   'territorii',\n",
            "   'svoei',\n",
            "   'strany',\n",
            "   'tak',\n",
            "   'i',\n",
            "   'okazyvat',\n",
            "   'pomoshch',\n",
            "   'v',\n",
            "   'tushenii',\n",
            "   'pozharov',\n",
            "   'v',\n",
            "   'gornolesistoi',\n",
            "   'mestnosti',\n",
            "   'v',\n",
            "   'turtsii',\n",
            "   'soobshchili',\n",
            "   'belta',\n",
            "   'v',\n",
            "   'presssluzhbe',\n",
            "   'mchs'],\n",
            "  ['aviatsiia',\n",
            "   'iavliaetsia',\n",
            "   'uzkospetsializirovannoi',\n",
            "   'otrasliu',\n",
            "   'osoboe',\n",
            "   'vnimanie',\n",
            "   'udeliaiut',\n",
            "   'znaniiu',\n",
            "   'tochnykh',\n",
            "   'nauk',\n",
            "   'i',\n",
            "   'fizicheskoi',\n",
            "   'podgotovke'],\n",
            "  ['a', 'v', 'kontse', 'goda', 'my', 'poekhali', 'v', 'siriiu'],\n",
            "  ['a',\n",
            "   'v',\n",
            "   'krakove',\n",
            "   'pani',\n",
            "   'agneshka',\n",
            "   'zamuzh',\n",
            "   'vykhodit',\n",
            "   'i',\n",
            "   'prazdnichnyi',\n",
            "   'priiom',\n",
            "   'po',\n",
            "   'etomu',\n",
            "   'povodu',\n",
            "   'ne',\n",
            "   'otmeniaet'],\n",
            "  ['a', 'vmesto', 'ikh', 'mozhno', 'i', 'detskuiu', 'bolnitsu', 'postroit']]]\n"
          ]
        }
      ]
    },
    {
      "cell_type": "code",
      "source": [
        "pip install pymorphy2"
      ],
      "metadata": {
        "id": "suwQ8OzGdcQE",
        "outputId": "cd2b690c-fcec-4236-bc1f-fd1051a8287c",
        "colab": {
          "base_uri": "https://localhost:8080/"
        }
      },
      "execution_count": 26,
      "outputs": [
        {
          "output_type": "stream",
          "name": "stdout",
          "text": [
            "Collecting pymorphy2\n",
            "  Downloading pymorphy2-0.9.1-py3-none-any.whl (55 kB)\n",
            "\u001b[?25l\r\r     |██████                          | 10 kB 15.9 MB/s eta 0:00:01\r     |███████████▉                    | 20 kB 23.2 MB/s eta 0:00:01\r     |█████████████████▊              | 30 kB 18.7 MB/s eta 0:00:01\r     |███████████████████████▋        | 40 kB 15.5 MB/s eta 0:00:01\r     |█████████████████████████████▌  | 51 kB 8.9 MB/s eta 0:00:01 \r     |████████████████████████████████| 55 kB 2.8 MB/s             \n",
            "\u001b[?25hRequirement already satisfied: docopt>=0.6 in /usr/local/lib/python3.7/dist-packages (from pymorphy2) (0.6.2)\n",
            "Collecting dawg-python>=0.7.1\n",
            "  Downloading DAWG_Python-0.7.2-py2.py3-none-any.whl (11 kB)\n",
            "Collecting pymorphy2-dicts-ru<3.0,>=2.4\n",
            "  Downloading pymorphy2_dicts_ru-2.4.417127.4579844-py2.py3-none-any.whl (8.2 MB)\n",
            "     |████████████████████████████████| 8.2 MB 13.2 MB/s            \n",
            "\u001b[?25hInstalling collected packages: pymorphy2-dicts-ru, dawg-python, pymorphy2\n",
            "Successfully installed dawg-python-0.7.2 pymorphy2-0.9.1 pymorphy2-dicts-ru-2.4.417127.4579844\n",
            "\u001b[33mWARNING: Running pip as the 'root' user can result in broken permissions and conflicting behaviour with the system package manager. It is recommended to use a virtual environment instead: https://pip.pypa.io/warnings/venv\u001b[0m\n"
          ]
        }
      ]
    },
    {
      "cell_type": "code",
      "source": [
        "import pymorphy2\n",
        "morph = pymorphy2.MorphAnalyzer(russian_text)"
      ],
      "metadata": {
        "id": "HHNlwTnqdw5u",
        "outputId": "6406503a-26c6-4283-d3f9-2b2be5099209",
        "colab": {
          "base_uri": "https://localhost:8080/",
          "height": 523
        }
      },
      "execution_count": 29,
      "outputs": [
        {
          "output_type": "error",
          "ename": "OSError",
          "evalue": "ignored",
          "traceback": [
            "\u001b[0;31m---------------------------------------------------------------------------\u001b[0m",
            "\u001b[0;31mOSError\u001b[0m                                   Traceback (most recent call last)",
            "\u001b[0;32m<ipython-input-29-78c7ec0daa1c>\u001b[0m in \u001b[0;36m<module>\u001b[0;34m()\u001b[0m\n\u001b[1;32m      1\u001b[0m \u001b[0;32mimport\u001b[0m \u001b[0mpymorphy2\u001b[0m\u001b[0;34m\u001b[0m\u001b[0;34m\u001b[0m\u001b[0m\n\u001b[0;32m----> 2\u001b[0;31m \u001b[0mmorph\u001b[0m \u001b[0;34m=\u001b[0m \u001b[0mpymorphy2\u001b[0m\u001b[0;34m.\u001b[0m\u001b[0mMorphAnalyzer\u001b[0m\u001b[0;34m(\u001b[0m\u001b[0mrussian_text\u001b[0m\u001b[0;34m)\u001b[0m\u001b[0;34m\u001b[0m\u001b[0;34m\u001b[0m\u001b[0m\n\u001b[0m",
            "\u001b[0;32m/usr/local/lib/python3.7/dist-packages/pymorphy2/analyzer.py\u001b[0m in \u001b[0;36m__init__\u001b[0;34m(self, path, lang, result_type, units, probability_estimator_cls, char_substitutes)\u001b[0m\n\u001b[1;32m    201\u001b[0m \u001b[0;34m\u001b[0m\u001b[0m\n\u001b[1;32m    202\u001b[0m         \u001b[0;32mwith\u001b[0m \u001b[0mself\u001b[0m\u001b[0;34m.\u001b[0m\u001b[0m_lock\u001b[0m\u001b[0;34m:\u001b[0m\u001b[0;34m\u001b[0m\u001b[0;34m\u001b[0m\u001b[0m\n\u001b[0;32m--> 203\u001b[0;31m             \u001b[0mself\u001b[0m\u001b[0;34m.\u001b[0m\u001b[0mdictionary\u001b[0m \u001b[0;34m=\u001b[0m \u001b[0mopencorpora_dict\u001b[0m\u001b[0;34m.\u001b[0m\u001b[0mDictionary\u001b[0m\u001b[0;34m(\u001b[0m\u001b[0mpath\u001b[0m\u001b[0;34m)\u001b[0m\u001b[0;34m\u001b[0m\u001b[0;34m\u001b[0m\u001b[0m\n\u001b[0m\u001b[1;32m    204\u001b[0m             \u001b[0mself\u001b[0m\u001b[0;34m.\u001b[0m\u001b[0mlang\u001b[0m \u001b[0;34m=\u001b[0m \u001b[0mself\u001b[0m\u001b[0;34m.\u001b[0m\u001b[0mchoose_language\u001b[0m\u001b[0;34m(\u001b[0m\u001b[0mself\u001b[0m\u001b[0;34m.\u001b[0m\u001b[0mdictionary\u001b[0m\u001b[0;34m,\u001b[0m \u001b[0mlang\u001b[0m\u001b[0;34m)\u001b[0m\u001b[0;34m\u001b[0m\u001b[0;34m\u001b[0m\u001b[0m\n\u001b[1;32m    205\u001b[0m \u001b[0;34m\u001b[0m\u001b[0m\n",
            "\u001b[0;32m/usr/local/lib/python3.7/dist-packages/pymorphy2/opencorpora_dict/wrapper.py\u001b[0m in \u001b[0;36m__init__\u001b[0;34m(self, path)\u001b[0m\n\u001b[1;32m     16\u001b[0m         \u001b[0mlogger\u001b[0m\u001b[0;34m.\u001b[0m\u001b[0minfo\u001b[0m\u001b[0;34m(\u001b[0m\u001b[0;34m\"Loading dictionaries from %s\"\u001b[0m\u001b[0;34m,\u001b[0m \u001b[0mpath\u001b[0m\u001b[0;34m)\u001b[0m\u001b[0;34m\u001b[0m\u001b[0;34m\u001b[0m\u001b[0m\n\u001b[1;32m     17\u001b[0m \u001b[0;34m\u001b[0m\u001b[0m\n\u001b[0;32m---> 18\u001b[0;31m         \u001b[0mself\u001b[0m\u001b[0;34m.\u001b[0m\u001b[0m_data\u001b[0m \u001b[0;34m=\u001b[0m \u001b[0mload_dict\u001b[0m\u001b[0;34m(\u001b[0m\u001b[0mpath\u001b[0m\u001b[0;34m)\u001b[0m\u001b[0;34m\u001b[0m\u001b[0;34m\u001b[0m\u001b[0m\n\u001b[0m\u001b[1;32m     19\u001b[0m \u001b[0;34m\u001b[0m\u001b[0m\n\u001b[1;32m     20\u001b[0m         \u001b[0mlogger\u001b[0m\u001b[0;34m.\u001b[0m\u001b[0minfo\u001b[0m\u001b[0;34m(\u001b[0m\u001b[0;34m\"format: %(format_version)s, revision: %(source_revision)s, updated: %(compiled_at)s\"\u001b[0m\u001b[0;34m,\u001b[0m \u001b[0mself\u001b[0m\u001b[0;34m.\u001b[0m\u001b[0m_data\u001b[0m\u001b[0;34m.\u001b[0m\u001b[0mmeta\u001b[0m\u001b[0;34m)\u001b[0m\u001b[0;34m\u001b[0m\u001b[0;34m\u001b[0m\u001b[0m\n",
            "\u001b[0;32m/usr/local/lib/python3.7/dist-packages/pymorphy2/opencorpora_dict/storage.py\u001b[0m in \u001b[0;36mload_dict\u001b[0;34m(path, gramtab_format)\u001b[0m\n\u001b[1;32m     47\u001b[0m     \u001b[0m_f\u001b[0m \u001b[0;34m=\u001b[0m \u001b[0;32mlambda\u001b[0m \u001b[0mp\u001b[0m\u001b[0;34m:\u001b[0m \u001b[0mos\u001b[0m\u001b[0;34m.\u001b[0m\u001b[0mpath\u001b[0m\u001b[0;34m.\u001b[0m\u001b[0mjoin\u001b[0m\u001b[0;34m(\u001b[0m\u001b[0mpath\u001b[0m\u001b[0;34m,\u001b[0m \u001b[0mp\u001b[0m\u001b[0;34m)\u001b[0m\u001b[0;34m\u001b[0m\u001b[0;34m\u001b[0m\u001b[0m\n\u001b[1;32m     48\u001b[0m \u001b[0;34m\u001b[0m\u001b[0m\n\u001b[0;32m---> 49\u001b[0;31m     \u001b[0mmeta\u001b[0m \u001b[0;34m=\u001b[0m \u001b[0mload_meta\u001b[0m\u001b[0;34m(\u001b[0m\u001b[0m_f\u001b[0m\u001b[0;34m(\u001b[0m\u001b[0;34m'meta.json'\u001b[0m\u001b[0;34m)\u001b[0m\u001b[0;34m)\u001b[0m\u001b[0;34m\u001b[0m\u001b[0;34m\u001b[0m\u001b[0m\n\u001b[0m\u001b[1;32m     50\u001b[0m     \u001b[0m_assert_format_is_compatible\u001b[0m\u001b[0;34m(\u001b[0m\u001b[0mmeta\u001b[0m\u001b[0;34m,\u001b[0m \u001b[0mpath\u001b[0m\u001b[0;34m)\u001b[0m\u001b[0;34m\u001b[0m\u001b[0;34m\u001b[0m\u001b[0m\n\u001b[1;32m     51\u001b[0m \u001b[0;34m\u001b[0m\u001b[0m\n",
            "\u001b[0;32m/usr/local/lib/python3.7/dist-packages/pymorphy2/opencorpora_dict/storage.py\u001b[0m in \u001b[0;36mload_meta\u001b[0;34m(filename)\u001b[0m\n\u001b[1;32m    153\u001b[0m \u001b[0;32mdef\u001b[0m \u001b[0mload_meta\u001b[0m\u001b[0;34m(\u001b[0m\u001b[0mfilename\u001b[0m\u001b[0;34m)\u001b[0m\u001b[0;34m:\u001b[0m\u001b[0;34m\u001b[0m\u001b[0;34m\u001b[0m\u001b[0m\n\u001b[1;32m    154\u001b[0m     \u001b[0;34m\"\"\" Load metadata. \"\"\"\u001b[0m\u001b[0;34m\u001b[0m\u001b[0;34m\u001b[0m\u001b[0m\n\u001b[0;32m--> 155\u001b[0;31m     \u001b[0mmeta\u001b[0m \u001b[0;34m=\u001b[0m \u001b[0mjson_read\u001b[0m\u001b[0;34m(\u001b[0m\u001b[0mfilename\u001b[0m\u001b[0;34m,\u001b[0m \u001b[0mparse_float\u001b[0m\u001b[0;34m=\u001b[0m\u001b[0mstr\u001b[0m\u001b[0;34m)\u001b[0m\u001b[0;34m\u001b[0m\u001b[0;34m\u001b[0m\u001b[0m\n\u001b[0m\u001b[1;32m    156\u001b[0m     \u001b[0;32mif\u001b[0m \u001b[0mhasattr\u001b[0m\u001b[0;34m(\u001b[0m\u001b[0mcollections\u001b[0m\u001b[0;34m,\u001b[0m \u001b[0;34m'OrderedDict'\u001b[0m\u001b[0;34m)\u001b[0m\u001b[0;34m:\u001b[0m\u001b[0;34m\u001b[0m\u001b[0;34m\u001b[0m\u001b[0m\n\u001b[1;32m    157\u001b[0m         \u001b[0;32mreturn\u001b[0m \u001b[0mcollections\u001b[0m\u001b[0;34m.\u001b[0m\u001b[0mOrderedDict\u001b[0m\u001b[0;34m(\u001b[0m\u001b[0mmeta\u001b[0m\u001b[0;34m)\u001b[0m\u001b[0;34m\u001b[0m\u001b[0;34m\u001b[0m\u001b[0m\n",
            "\u001b[0;32m/usr/local/lib/python3.7/dist-packages/pymorphy2/utils.py\u001b[0m in \u001b[0;36mjson_read\u001b[0;34m(filename, **json_options)\u001b[0m\n\u001b[1;32m     86\u001b[0m \u001b[0;32mdef\u001b[0m \u001b[0mjson_read\u001b[0m\u001b[0;34m(\u001b[0m\u001b[0mfilename\u001b[0m\u001b[0;34m,\u001b[0m \u001b[0;34m**\u001b[0m\u001b[0mjson_options\u001b[0m\u001b[0;34m)\u001b[0m\u001b[0;34m:\u001b[0m\u001b[0;34m\u001b[0m\u001b[0;34m\u001b[0m\u001b[0m\n\u001b[1;32m     87\u001b[0m     \u001b[0;34m\"\"\" Read an object from a json file ``filename`` \"\"\"\u001b[0m\u001b[0;34m\u001b[0m\u001b[0;34m\u001b[0m\u001b[0m\n\u001b[0;32m---> 88\u001b[0;31m     \u001b[0;32mwith\u001b[0m \u001b[0mcodecs\u001b[0m\u001b[0;34m.\u001b[0m\u001b[0mopen\u001b[0m\u001b[0;34m(\u001b[0m\u001b[0mfilename\u001b[0m\u001b[0;34m,\u001b[0m \u001b[0;34m'r'\u001b[0m\u001b[0;34m,\u001b[0m \u001b[0;34m'utf8'\u001b[0m\u001b[0;34m)\u001b[0m \u001b[0;32mas\u001b[0m \u001b[0mf\u001b[0m\u001b[0;34m:\u001b[0m\u001b[0;34m\u001b[0m\u001b[0;34m\u001b[0m\u001b[0m\n\u001b[0m\u001b[1;32m     89\u001b[0m         \u001b[0;32mreturn\u001b[0m \u001b[0mjson\u001b[0m\u001b[0;34m.\u001b[0m\u001b[0mload\u001b[0m\u001b[0;34m(\u001b[0m\u001b[0mf\u001b[0m\u001b[0;34m,\u001b[0m \u001b[0;34m**\u001b[0m\u001b[0mjson_options\u001b[0m\u001b[0;34m)\u001b[0m\u001b[0;34m\u001b[0m\u001b[0;34m\u001b[0m\u001b[0m\n\u001b[1;32m     90\u001b[0m \u001b[0;34m\u001b[0m\u001b[0m\n",
            "\u001b[0;32m/usr/lib/python3.7/codecs.py\u001b[0m in \u001b[0;36mopen\u001b[0;34m(filename, mode, encoding, errors, buffering)\u001b[0m\n\u001b[1;32m    902\u001b[0m         \u001b[0;31m# Force opening of the file in binary mode\u001b[0m\u001b[0;34m\u001b[0m\u001b[0;34m\u001b[0m\u001b[0;34m\u001b[0m\u001b[0m\n\u001b[1;32m    903\u001b[0m         \u001b[0mmode\u001b[0m \u001b[0;34m=\u001b[0m \u001b[0mmode\u001b[0m \u001b[0;34m+\u001b[0m \u001b[0;34m'b'\u001b[0m\u001b[0;34m\u001b[0m\u001b[0;34m\u001b[0m\u001b[0m\n\u001b[0;32m--> 904\u001b[0;31m     \u001b[0mfile\u001b[0m \u001b[0;34m=\u001b[0m \u001b[0mbuiltins\u001b[0m\u001b[0;34m.\u001b[0m\u001b[0mopen\u001b[0m\u001b[0;34m(\u001b[0m\u001b[0mfilename\u001b[0m\u001b[0;34m,\u001b[0m \u001b[0mmode\u001b[0m\u001b[0;34m,\u001b[0m \u001b[0mbuffering\u001b[0m\u001b[0;34m)\u001b[0m\u001b[0;34m\u001b[0m\u001b[0;34m\u001b[0m\u001b[0m\n\u001b[0m\u001b[1;32m    905\u001b[0m     \u001b[0;32mif\u001b[0m \u001b[0mencoding\u001b[0m \u001b[0;32mis\u001b[0m \u001b[0;32mNone\u001b[0m\u001b[0;34m:\u001b[0m\u001b[0;34m\u001b[0m\u001b[0;34m\u001b[0m\u001b[0m\n\u001b[1;32m    906\u001b[0m         \u001b[0;32mreturn\u001b[0m \u001b[0mfile\u001b[0m\u001b[0;34m\u001b[0m\u001b[0;34m\u001b[0m\u001b[0m\n",
            "\u001b[0;31mOSError\u001b[0m: [Errno 36] File name too long: ' А ведь именно здесь бывает много туристов.\\n\\tА ведь Прохоров уже обещал электромобиль, но где он?\\n\\tАвиакомпания \"Белавиа\" объявила спецпредложение на рейсы маршрута Минск-Вена-Минск, сообщает БЕЛТА со ссылкой на официальный сайт авиаперевозчика.\\n\\tАвиакомпания «Победа» планирует вернуть в работу 30 самолетов до конца июля.\\n\\tАвиаторы МЧС Беларуси продолжают нести дежурство как на территории своей страны, так и оказывать помощь в тушении пожаров в горно-лесистой местности в Турции, сообщили БЕЛТА в пресс-службе МЧС.\\n\\tАвиация является узкоспециализированной отраслью, особое внимание уделяют знанию точных наук и физической подготовке.\\n\\tА в конце года мы поехали в Сирию.\\n  А в Кракове пани Агнешка замуж выходит - и праздничный приём по этому поводу не отменяет.\\n\\tА вместо их можно и детскую больницу построить.\\n  /meta.json'"
          ]
        }
      ]
    },
    {
      "cell_type": "code",
      "source": [
        "german_text='''Aber die Kleinen gehen Konkurs, wenn noch länger anhält.Aber die konstruktive Haltung ist eben, sich zu fragen: Was kann ich denn eigentlich dafür tun, damit es mir wenigstens ein bisschen besser geht? Aber die nächsten Jahre werden wirtschaftlich und finanziell durch die Folgen der Pandemie noch einmal eine besondere Herausforderung. Aber die Öffnung des Landes kam offensichtlich zu früh.\n",
        "Aber diese Form der Solidarität, die zweifellos ausgesprochen wichtig ist, stellt nur einen Teil der notwendigen Solidarität dar, die jetzt gefordert ist.\n",
        "Aber diese Masken sollen eigentlich im Krankenhaus getragen werden, damit sich das Krankenhauspersonal nicht bei Personen ansteckt.\n",
        "Aber die Situation gebietet es eben, zu Hause zu bleiben.\n",
        "Aber: Die Soldaten seien \"keine willfährigen Zeitarbeiter, die für ein paar Euro die Stunde die Pakete sortieren\", erklärte Laimer in einer Aussendung verärgert.\n",
        "Aber die Tragödie unserer Geschichte ist: Wir sind politisch nicht organisiert, wir haben diese Tradition nicht.\n",
        "Aber eben: Der Arbeitsmarkt steht sogar vor «historischen Herausforderungen», wie die «Freiburger Nachrichten» neulich vermeldeten.\n",
        "Aber eine - wie von Ministerpräsident Stephan Weil angestrebte - erneute rot-grüne Koalition sei \"nicht zwingend ein Automatismus\", so die Grünen-Politikerin.\n",
        "Aber erst jetzt, beim Abonnementskonzert der HR-Sinfoniker in der Alten Oper Frankfurt, fernab vom Open-Air-Event, war der 45-Jährige in seinem Profil als Orchesterleiter und Interpret genauer zu erfassen.\n",
        "Aber es geht auch ohne Familie: Bereits vom 8. Mai an dürfen sich wieder mehrere Angehörige von zwei Haushalten treffen – und zwar sowohl im privaten als auch im öffentlichen Raum.\n",
        "'''"
      ],
      "metadata": {
        "id": "vCorT3USgOIv"
      },
      "execution_count": 41,
      "outputs": []
    },
    {
      "cell_type": "code",
      "source": [
        "german_text = german_text.lower()\n",
        "pprint(german_text)"
      ],
      "metadata": {
        "id": "ZssHoTiIgVUx",
        "outputId": "6a91fb3a-2909-454b-cd8d-f2c7a573e736",
        "colab": {
          "base_uri": "https://localhost:8080/"
        }
      },
      "execution_count": 42,
      "outputs": [
        {
          "output_type": "stream",
          "name": "stdout",
          "text": [
            "('aber die kleinen gehen konkurs, wenn noch länger anhält.aber die '\n",
            " 'konstruktive haltung ist eben, sich zu fragen: was kann ich denn eigentlich '\n",
            " 'dafür tun, damit es mir wenigstens ein bisschen besser geht? aber die '\n",
            " 'nächsten jahre werden wirtschaftlich und finanziell durch die folgen der '\n",
            " 'pandemie noch einmal eine besondere herausforderung. aber die öffnung des '\n",
            " 'landes kam offensichtlich zu früh.\\n'\n",
            " 'aber diese form der solidarität, die zweifellos ausgesprochen wichtig ist, '\n",
            " 'stellt nur einen teil der notwendigen solidarität dar, die jetzt gefordert '\n",
            " 'ist.\\n'\n",
            " 'aber diese masken sollen eigentlich im krankenhaus getragen werden, damit '\n",
            " 'sich das krankenhauspersonal nicht bei personen ansteckt.\\n'\n",
            " 'aber die situation gebietet es eben, zu hause zu bleiben.\\n'\n",
            " 'aber: die soldaten seien \"keine willfährigen zeitarbeiter, die für ein paar '\n",
            " 'euro die stunde die pakete sortieren\", erklärte laimer in einer aussendung '\n",
            " 'verärgert.\\n'\n",
            " 'aber die tragödie unserer geschichte ist: wir sind politisch nicht '\n",
            " 'organisiert, wir haben diese tradition nicht.\\n'\n",
            " 'aber eben: der arbeitsmarkt steht sogar vor «historischen '\n",
            " 'herausforderungen», wie die «freiburger nachrichten» neulich vermeldeten.\\n'\n",
            " 'aber eine - wie von ministerpräsident stephan weil angestrebte - erneute '\n",
            " 'rot-grüne koalition sei \"nicht zwingend ein automatismus\", so die '\n",
            " 'grünen-politikerin.\\n'\n",
            " 'aber erst jetzt, beim abonnementskonzert der hr-sinfoniker in der alten oper '\n",
            " 'frankfurt, fernab vom open-air-event, war der 45-jährige in seinem profil '\n",
            " 'als orchesterleiter und interpret genauer zu erfassen.\\n'\n",
            " 'aber es geht auch ohne familie: bereits vom 8. mai an dürfen sich wieder '\n",
            " 'mehrere angehörige von zwei haushalten treffen – und zwar sowohl im privaten '\n",
            " 'als auch im öffentlichen raum.\\n')\n"
          ]
        }
      ]
    },
    {
      "cell_type": "code",
      "source": [
        "german_text = re.sub(' \\d+', '', german_text)\n",
        "pprint(german_text)"
      ],
      "metadata": {
        "id": "a6qCwl53gaGg",
        "outputId": "88c17a3d-e2ca-4b36-b4a6-435d30f5848a",
        "colab": {
          "base_uri": "https://localhost:8080/"
        }
      },
      "execution_count": 43,
      "outputs": [
        {
          "output_type": "stream",
          "name": "stdout",
          "text": [
            "('aber die kleinen gehen konkurs, wenn noch länger anhält.aber die '\n",
            " 'konstruktive haltung ist eben, sich zu fragen: was kann ich denn eigentlich '\n",
            " 'dafür tun, damit es mir wenigstens ein bisschen besser geht? aber die '\n",
            " 'nächsten jahre werden wirtschaftlich und finanziell durch die folgen der '\n",
            " 'pandemie noch einmal eine besondere herausforderung. aber die öffnung des '\n",
            " 'landes kam offensichtlich zu früh.\\n'\n",
            " 'aber diese form der solidarität, die zweifellos ausgesprochen wichtig ist, '\n",
            " 'stellt nur einen teil der notwendigen solidarität dar, die jetzt gefordert '\n",
            " 'ist.\\n'\n",
            " 'aber diese masken sollen eigentlich im krankenhaus getragen werden, damit '\n",
            " 'sich das krankenhauspersonal nicht bei personen ansteckt.\\n'\n",
            " 'aber die situation gebietet es eben, zu hause zu bleiben.\\n'\n",
            " 'aber: die soldaten seien \"keine willfährigen zeitarbeiter, die für ein paar '\n",
            " 'euro die stunde die pakete sortieren\", erklärte laimer in einer aussendung '\n",
            " 'verärgert.\\n'\n",
            " 'aber die tragödie unserer geschichte ist: wir sind politisch nicht '\n",
            " 'organisiert, wir haben diese tradition nicht.\\n'\n",
            " 'aber eben: der arbeitsmarkt steht sogar vor «historischen '\n",
            " 'herausforderungen», wie die «freiburger nachrichten» neulich vermeldeten.\\n'\n",
            " 'aber eine - wie von ministerpräsident stephan weil angestrebte - erneute '\n",
            " 'rot-grüne koalition sei \"nicht zwingend ein automatismus\", so die '\n",
            " 'grünen-politikerin.\\n'\n",
            " 'aber erst jetzt, beim abonnementskonzert der hr-sinfoniker in der alten oper '\n",
            " 'frankfurt, fernab vom open-air-event, war der-jährige in seinem profil als '\n",
            " 'orchesterleiter und interpret genauer zu erfassen.\\n'\n",
            " 'aber es geht auch ohne familie: bereits vom. mai an dürfen sich wieder '\n",
            " 'mehrere angehörige von zwei haushalten treffen – und zwar sowohl im privaten '\n",
            " 'als auch im öffentlichen raum.\\n')\n"
          ]
        }
      ]
    },
    {
      "cell_type": "code",
      "source": [
        "german_text  = unidecode.unidecode(german_text)\n",
        "pprint(german_text)"
      ],
      "metadata": {
        "id": "EQQrL8hrgtYx",
        "outputId": "ee5f5bd0-e8e9-44fc-c203-cc4c23c43c50",
        "colab": {
          "base_uri": "https://localhost:8080/"
        }
      },
      "execution_count": 44,
      "outputs": [
        {
          "output_type": "stream",
          "name": "stdout",
          "text": [
            "('aber die kleinen gehen konkurs, wenn noch langer anhalt.aber die '\n",
            " 'konstruktive haltung ist eben, sich zu fragen: was kann ich denn eigentlich '\n",
            " 'dafur tun, damit es mir wenigstens ein bisschen besser geht? aber die '\n",
            " 'nachsten jahre werden wirtschaftlich und finanziell durch die folgen der '\n",
            " 'pandemie noch einmal eine besondere herausforderung. aber die offnung des '\n",
            " 'landes kam offensichtlich zu fruh.\\n'\n",
            " 'aber diese form der solidaritat, die zweifellos ausgesprochen wichtig ist, '\n",
            " 'stellt nur einen teil der notwendigen solidaritat dar, die jetzt gefordert '\n",
            " 'ist.\\n'\n",
            " 'aber diese masken sollen eigentlich im krankenhaus getragen werden, damit '\n",
            " 'sich das krankenhauspersonal nicht bei personen ansteckt.\\n'\n",
            " 'aber die situation gebietet es eben, zu hause zu bleiben.\\n'\n",
            " 'aber: die soldaten seien \"keine willfahrigen zeitarbeiter, die fur ein paar '\n",
            " 'euro die stunde die pakete sortieren\", erklarte laimer in einer aussendung '\n",
            " 'verargert.\\n'\n",
            " 'aber die tragodie unserer geschichte ist: wir sind politisch nicht '\n",
            " 'organisiert, wir haben diese tradition nicht.\\n'\n",
            " 'aber eben: der arbeitsmarkt steht sogar vor <<historischen '\n",
            " 'herausforderungen>>, wie die <<freiburger nachrichten>> neulich '\n",
            " 'vermeldeten.\\n'\n",
            " 'aber eine - wie von ministerprasident stephan weil angestrebte - erneute '\n",
            " 'rot-grune koalition sei \"nicht zwingend ein automatismus\", so die '\n",
            " 'grunen-politikerin.\\n'\n",
            " 'aber erst jetzt, beim abonnementskonzert der hr-sinfoniker in der alten oper '\n",
            " 'frankfurt, fernab vom open-air-event, war der-jahrige in seinem profil als '\n",
            " 'orchesterleiter und interpret genauer zu erfassen.\\n'\n",
            " 'aber es geht auch ohne familie: bereits vom. mai an durfen sich wieder '\n",
            " 'mehrere angehorige von zwei haushalten treffen - und zwar sowohl im privaten '\n",
            " 'als auch im offentlichen raum.\\n')\n"
          ]
        }
      ]
    },
    {
      "cell_type": "code",
      "source": [
        "germ_sent = sent_tokenize(german_text)\n",
        "germ_sent "
      ],
      "metadata": {
        "id": "BUojCiCggyjN",
        "outputId": "b1c57f5d-b8c6-4094-edd5-1363dbf25323",
        "colab": {
          "base_uri": "https://localhost:8080/"
        }
      },
      "execution_count": 45,
      "outputs": [
        {
          "output_type": "execute_result",
          "data": {
            "text/plain": [
              "['aber die kleinen gehen konkurs, wenn noch langer anhalt.aber die konstruktive haltung ist eben, sich zu fragen: was kann ich denn eigentlich dafur tun, damit es mir wenigstens ein bisschen besser geht?',\n",
              " 'aber die nachsten jahre werden wirtschaftlich und finanziell durch die folgen der pandemie noch einmal eine besondere herausforderung.',\n",
              " 'aber die offnung des landes kam offensichtlich zu fruh.',\n",
              " 'aber diese form der solidaritat, die zweifellos ausgesprochen wichtig ist, stellt nur einen teil der notwendigen solidaritat dar, die jetzt gefordert ist.',\n",
              " 'aber diese masken sollen eigentlich im krankenhaus getragen werden, damit sich das krankenhauspersonal nicht bei personen ansteckt.',\n",
              " 'aber die situation gebietet es eben, zu hause zu bleiben.',\n",
              " 'aber: die soldaten seien \"keine willfahrigen zeitarbeiter, die fur ein paar euro die stunde die pakete sortieren\", erklarte laimer in einer aussendung verargert.',\n",
              " 'aber die tragodie unserer geschichte ist: wir sind politisch nicht organisiert, wir haben diese tradition nicht.',\n",
              " 'aber eben: der arbeitsmarkt steht sogar vor <<historischen herausforderungen>>, wie die <<freiburger nachrichten>> neulich vermeldeten.',\n",
              " 'aber eine - wie von ministerprasident stephan weil angestrebte - erneute rot-grune koalition sei \"nicht zwingend ein automatismus\", so die grunen-politikerin.',\n",
              " 'aber erst jetzt, beim abonnementskonzert der hr-sinfoniker in der alten oper frankfurt, fernab vom open-air-event, war der-jahrige in seinem profil als orchesterleiter und interpret genauer zu erfassen.',\n",
              " 'aber es geht auch ohne familie: bereits vom.',\n",
              " 'mai an durfen sich wieder mehrere angehorige von zwei haushalten treffen - und zwar sowohl im privaten als auch im offentlichen raum.']"
            ]
          },
          "metadata": {},
          "execution_count": 45
        }
      ]
    },
    {
      "cell_type": "code",
      "source": [
        "germ_sent = [sent.translate(str.maketrans('', '', string.punctuation)) for sent in germ_sent]\n",
        "\n",
        "german_words = [[word_tokenize(sent) for sent in germ_sent]]\n",
        "pprint(germ_sent) "
      ],
      "metadata": {
        "id": "lkELhxggg6iV",
        "outputId": "7b199c2d-91a7-4a30-ab56-7b9cd75aa1f9",
        "colab": {
          "base_uri": "https://localhost:8080/"
        }
      },
      "execution_count": 48,
      "outputs": [
        {
          "output_type": "stream",
          "name": "stdout",
          "text": [
            "['aber die kleinen gehen konkurs wenn noch langer anhaltaber die konstruktive '\n",
            " 'haltung ist eben sich zu fragen was kann ich denn eigentlich dafur tun damit '\n",
            " 'es mir wenigstens ein bisschen besser geht',\n",
            " 'aber die nachsten jahre werden wirtschaftlich und finanziell durch die '\n",
            " 'folgen der pandemie noch einmal eine besondere herausforderung',\n",
            " 'aber die offnung des landes kam offensichtlich zu fruh',\n",
            " 'aber diese form der solidaritat die zweifellos ausgesprochen wichtig ist '\n",
            " 'stellt nur einen teil der notwendigen solidaritat dar die jetzt gefordert '\n",
            " 'ist',\n",
            " 'aber diese masken sollen eigentlich im krankenhaus getragen werden damit '\n",
            " 'sich das krankenhauspersonal nicht bei personen ansteckt',\n",
            " 'aber die situation gebietet es eben zu hause zu bleiben',\n",
            " 'aber die soldaten seien keine willfahrigen zeitarbeiter die fur ein paar '\n",
            " 'euro die stunde die pakete sortieren erklarte laimer in einer aussendung '\n",
            " 'verargert',\n",
            " 'aber die tragodie unserer geschichte ist wir sind politisch nicht '\n",
            " 'organisiert wir haben diese tradition nicht',\n",
            " 'aber eben der arbeitsmarkt steht sogar vor historischen herausforderungen '\n",
            " 'wie die freiburger nachrichten neulich vermeldeten',\n",
            " 'aber eine  wie von ministerprasident stephan weil angestrebte  erneute '\n",
            " 'rotgrune koalition sei nicht zwingend ein automatismus so die '\n",
            " 'grunenpolitikerin',\n",
            " 'aber erst jetzt beim abonnementskonzert der hrsinfoniker in der alten oper '\n",
            " 'frankfurt fernab vom openairevent war derjahrige in seinem profil als '\n",
            " 'orchesterleiter und interpret genauer zu erfassen',\n",
            " 'aber es geht auch ohne familie bereits vom',\n",
            " 'mai an durfen sich wieder mehrere angehorige von zwei haushalten treffen  '\n",
            " 'und zwar sowohl im privaten als auch im offentlichen raum']\n"
          ]
        }
      ]
    },
    {
      "cell_type": "markdown",
      "metadata": {
        "id": "PNPLCHObe0O5"
      },
      "source": [
        "Resources:\n",
        "\n",
        "* [An Crúbadán - Corpus Building for Minority Languages - 18721 languages](http://crubadan.org/)\n",
        "* [Leipzig Corpora Collection / Deutscher Wortschatz 291 languages](https://wortschatz.uni-leipzig.de/en/download)\n",
        "* [Europarl](https://www.statmt.org/europarl/)\n",
        "\n",
        "Tools:\n",
        "* [Chinese text segmentation](https://github.com/fxsjy/jieba)\n",
        "\n",
        "Further reading:\n",
        "\n",
        "* [A Survey of Approaches to Diacritic Restoration](https://www.researchgate.net/profile/Franklin-Asahiah/publication/328419851_A_Survey_of_Approaches_to_Diacritic_Restoration/links/5bcd8b67458515f7d9d02f3d/A-Survey-of-Approaches-to-Diacritic-Restoration.pdf)\n",
        "* [Preprocessing Arabic text on social media](https://www.sciencedirect.com/science/article/pii/S2405844021002966)\n",
        "* [Semantic-Based Segmentation of Arabic Texts](https://scialert.net/fulltext/?doi=itj.2008.1009.1015)\n",
        "* [The case of Croatian](https://medium.com/krakensystems-blog/text-processing-problems-with-non-english-languages-82822d0945dd)\n",
        "\n",
        "\n",
        "\n",
        "\n",
        "\n",
        "\n"
      ]
    }
  ]
}