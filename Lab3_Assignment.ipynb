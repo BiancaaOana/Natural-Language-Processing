{
  "nbformat": 4,
  "nbformat_minor": 0,
  "metadata": {
    "colab": {
      "name": "Untitled8.ipynb",
      "provenance": []
    },
    "kernelspec": {
      "name": "python3",
      "display_name": "Python 3"
    },
    "language_info": {
      "name": "python"
    }
  },
  "cells": [
    {
      "cell_type": "code",
      "metadata": {
        "id": "pSYLcxlMLlYo"
      },
      "source": [
        "import pandas as pd\n",
        "import nltk\n",
        "from sklearn.model_selection import train_test_split\n",
        "import re\n",
        "import emoji\n",
        "from sklearn.feature_extraction.text import TfidfVectorizer"
      ],
      "execution_count": 53,
      "outputs": []
    },
    {
      "cell_type": "code",
      "metadata": {
        "colab": {
          "base_uri": "https://localhost:8080/"
        },
        "id": "7O1OwHgWJEau",
        "outputId": "f672b166-3ebb-4cd9-a7ce-057b24ddcd8f"
      },
      "source": [
        "nltk.download('twitter_samples')"
      ],
      "execution_count": 1,
      "outputs": [
        {
          "output_type": "stream",
          "name": "stdout",
          "text": [
            "[nltk_data] Downloading package twitter_samples to /root/nltk_data...\n",
            "[nltk_data]   Unzipping corpora/twitter_samples.zip.\n"
          ]
        },
        {
          "output_type": "execute_result",
          "data": {
            "text/plain": [
              "True"
            ]
          },
          "metadata": {},
          "execution_count": 1
        }
      ]
    },
    {
      "cell_type": "code",
      "metadata": {
        "id": "xYWqsNiELFR1"
      },
      "source": [
        "from nltk.corpus  import twitter_samples\n",
        "\n",
        "positive_tweets = twitter_samples.strings('positive_tweets.json')\n",
        "negative_tweets = twitter_samples.strings('negative_tweets.json')\n"
      ],
      "execution_count": 4,
      "outputs": []
    },
    {
      "cell_type": "code",
      "metadata": {
        "id": "WSn4dMjgLpdj"
      },
      "source": [
        "positive = pd.DataFrame(positive_tweets)\n",
        "negative = pd.DataFrame(negative_tweets)"
      ],
      "execution_count": 12,
      "outputs": []
    },
    {
      "cell_type": "code",
      "metadata": {
        "id": "dO7AuzSVMQAL"
      },
      "source": [
        "positive.rename(columns= {0: \"Tweet Data\"}, inplace=True)\n",
        "negative.rename(columns= {0: \"Tweet Data\"}, inplace=True)"
      ],
      "execution_count": 15,
      "outputs": []
    },
    {
      "cell_type": "code",
      "metadata": {
        "id": "SDK-MgeoNWLz"
      },
      "source": [
        "positive[\"Label\"] = 1\n",
        "negative[\"Label\"] = 0"
      ],
      "execution_count": 18,
      "outputs": []
    },
    {
      "cell_type": "code",
      "metadata": {
        "colab": {
          "base_uri": "https://localhost:8080/",
          "height": 417
        },
        "id": "_I7MBRePNlGm",
        "outputId": "9161a5d8-a700-4cc8-ba8a-b181396a4322"
      },
      "source": [
        "all_data = pd.concat([positive,negative], ignore_index=True)\n",
        "all_data"
      ],
      "execution_count": 21,
      "outputs": [
        {
          "output_type": "execute_result",
          "data": {
            "text/html": [
              "<div>\n",
              "<style scoped>\n",
              "    .dataframe tbody tr th:only-of-type {\n",
              "        vertical-align: middle;\n",
              "    }\n",
              "\n",
              "    .dataframe tbody tr th {\n",
              "        vertical-align: top;\n",
              "    }\n",
              "\n",
              "    .dataframe thead th {\n",
              "        text-align: right;\n",
              "    }\n",
              "</style>\n",
              "<table border=\"1\" class=\"dataframe\">\n",
              "  <thead>\n",
              "    <tr style=\"text-align: right;\">\n",
              "      <th></th>\n",
              "      <th>Tweet Data</th>\n",
              "      <th>Label</th>\n",
              "    </tr>\n",
              "  </thead>\n",
              "  <tbody>\n",
              "    <tr>\n",
              "      <th>0</th>\n",
              "      <td>#FollowFriday @France_Inte @PKuchly57 @Milipol...</td>\n",
              "      <td>1</td>\n",
              "    </tr>\n",
              "    <tr>\n",
              "      <th>1</th>\n",
              "      <td>@Lamb2ja Hey James! How odd :/ Please call our...</td>\n",
              "      <td>1</td>\n",
              "    </tr>\n",
              "    <tr>\n",
              "      <th>2</th>\n",
              "      <td>@DespiteOfficial we had a listen last night :)...</td>\n",
              "      <td>1</td>\n",
              "    </tr>\n",
              "    <tr>\n",
              "      <th>3</th>\n",
              "      <td>@97sides CONGRATS :)</td>\n",
              "      <td>1</td>\n",
              "    </tr>\n",
              "    <tr>\n",
              "      <th>4</th>\n",
              "      <td>yeaaaah yippppy!!!  my accnt verified rqst has...</td>\n",
              "      <td>1</td>\n",
              "    </tr>\n",
              "    <tr>\n",
              "      <th>...</th>\n",
              "      <td>...</td>\n",
              "      <td>...</td>\n",
              "    </tr>\n",
              "    <tr>\n",
              "      <th>9995</th>\n",
              "      <td>I wanna change my avi but uSanele :(</td>\n",
              "      <td>0</td>\n",
              "    </tr>\n",
              "    <tr>\n",
              "      <th>9996</th>\n",
              "      <td>MY PUPPY BROKE HER FOOT :(</td>\n",
              "      <td>0</td>\n",
              "    </tr>\n",
              "    <tr>\n",
              "      <th>9997</th>\n",
              "      <td>where's all the jaebum baby pictures :((</td>\n",
              "      <td>0</td>\n",
              "    </tr>\n",
              "    <tr>\n",
              "      <th>9998</th>\n",
              "      <td>But but Mr Ahmad Maslan cooks too :( https://t...</td>\n",
              "      <td>0</td>\n",
              "    </tr>\n",
              "    <tr>\n",
              "      <th>9999</th>\n",
              "      <td>@eawoman As a Hull supporter I am expecting a ...</td>\n",
              "      <td>0</td>\n",
              "    </tr>\n",
              "  </tbody>\n",
              "</table>\n",
              "<p>10000 rows × 2 columns</p>\n",
              "</div>"
            ],
            "text/plain": [
              "                                             Tweet Data  Label\n",
              "0     #FollowFriday @France_Inte @PKuchly57 @Milipol...      1\n",
              "1     @Lamb2ja Hey James! How odd :/ Please call our...      1\n",
              "2     @DespiteOfficial we had a listen last night :)...      1\n",
              "3                                  @97sides CONGRATS :)      1\n",
              "4     yeaaaah yippppy!!!  my accnt verified rqst has...      1\n",
              "...                                                 ...    ...\n",
              "9995               I wanna change my avi but uSanele :(      0\n",
              "9996                         MY PUPPY BROKE HER FOOT :(      0\n",
              "9997           where's all the jaebum baby pictures :((      0\n",
              "9998  But but Mr Ahmad Maslan cooks too :( https://t...      0\n",
              "9999  @eawoman As a Hull supporter I am expecting a ...      0\n",
              "\n",
              "[10000 rows x 2 columns]"
            ]
          },
          "metadata": {},
          "execution_count": 21
        }
      ]
    },
    {
      "cell_type": "code",
      "metadata": {
        "colab": {
          "base_uri": "https://localhost:8080/"
        },
        "id": "xkAVQTLpU3NR",
        "outputId": "b043a97e-f51e-498a-d990-b201ead493f5"
      },
      "source": [
        "all_data[\"Tweet Data\"]"
      ],
      "execution_count": 26,
      "outputs": [
        {
          "output_type": "execute_result",
          "data": {
            "text/plain": [
              "0       #FollowFriday @France_Inte @PKuchly57 @Milipol...\n",
              "1       @Lamb2ja Hey James! How odd :/ Please call our...\n",
              "2       @DespiteOfficial we had a listen last night :)...\n",
              "3                                    @97sides CONGRATS :)\n",
              "4       yeaaaah yippppy!!!  my accnt verified rqst has...\n",
              "                              ...                        \n",
              "9995                 I wanna change my avi but uSanele :(\n",
              "9996                           MY PUPPY BROKE HER FOOT :(\n",
              "9997             where's all the jaebum baby pictures :((\n",
              "9998    But but Mr Ahmad Maslan cooks too :( https://t...\n",
              "9999    @eawoman As a Hull supporter I am expecting a ...\n",
              "Name: Tweet Data, Length: 10000, dtype: object"
            ]
          },
          "metadata": {},
          "execution_count": 26
        }
      ]
    },
    {
      "cell_type": "code",
      "metadata": {
        "id": "Y7MT6z67WLI5"
      },
      "source": [
        "emoticon_string = r\"\"\"\n",
        "    (?:\n",
        "      [<>]?\n",
        "      [:;=8]                     # eyes\n",
        "      [\\-o\\*\\']?                 # optional nose\n",
        "      [\\)\\]\\(\\[dDpP/\\:\\}\\{@\\|\\\\] # mouth\n",
        "      |\n",
        "      [\\)\\]\\(\\[dDpP/\\:\\}\\{@\\|\\\\] # mouth\n",
        "      [\\-o\\*\\']?                 # optional nose\n",
        "      [:;=8]                     # eyes\n",
        "      [<>]?\n",
        "      |\n",
        "      </?3                       # heart\n",
        "    )\"\"\"\n",
        "    \n",
        "emoticon_re = re.compile(emoticon_string, re.VERBOSE | re.I | re.UNICODE)"
      ],
      "execution_count": 32,
      "outputs": []
    },
    {
      "cell_type": "code",
      "metadata": {
        "id": "zyZ_zY9JVCGU"
      },
      "source": [
        "procc_data=[]\n",
        "for data in all_data['Tweet Data']:\n",
        "  preproc = re.sub('\\n', ' ', data)\n",
        "  preproc = re.sub('(@|https?)\\S+|#',\" \",preproc)\n",
        "  preproc = preproc.lower()\n",
        "  preproc = emoji.get_emoji_regexp().sub(u'', preproc)\n",
        "  preproc = re.sub(emoticon_re, '', preproc)\n",
        "  preproc = re.sub('\\d+', '', preproc)\n",
        "  preproc = re.sub(r'[^\\w\\s]','', preproc)\n",
        "  procc_data.append(preproc)"
      ],
      "execution_count": 44,
      "outputs": []
    },
    {
      "cell_type": "code",
      "metadata": {
        "id": "lAioQ6rxWeea"
      },
      "source": [
        "proccessed_df = pd.DataFrame(procc_data)"
      ],
      "execution_count": 45,
      "outputs": []
    },
    {
      "cell_type": "code",
      "metadata": {
        "id": "f95D1U7zW2O8"
      },
      "source": [
        "all_data['Tweet Data'] = proccessed_df[0]"
      ],
      "execution_count": 46,
      "outputs": []
    },
    {
      "cell_type": "code",
      "metadata": {
        "colab": {
          "base_uri": "https://localhost:8080/",
          "height": 417
        },
        "id": "zWeWhF1OXM5t",
        "outputId": "8288a527-54f0-4773-ac2a-5094852968fc"
      },
      "source": [
        "all_data"
      ],
      "execution_count": 47,
      "outputs": [
        {
          "output_type": "execute_result",
          "data": {
            "text/html": [
              "<div>\n",
              "<style scoped>\n",
              "    .dataframe tbody tr th:only-of-type {\n",
              "        vertical-align: middle;\n",
              "    }\n",
              "\n",
              "    .dataframe tbody tr th {\n",
              "        vertical-align: top;\n",
              "    }\n",
              "\n",
              "    .dataframe thead th {\n",
              "        text-align: right;\n",
              "    }\n",
              "</style>\n",
              "<table border=\"1\" class=\"dataframe\">\n",
              "  <thead>\n",
              "    <tr style=\"text-align: right;\">\n",
              "      <th></th>\n",
              "      <th>Tweet Data</th>\n",
              "      <th>Label</th>\n",
              "    </tr>\n",
              "  </thead>\n",
              "  <tbody>\n",
              "    <tr>\n",
              "      <th>0</th>\n",
              "      <td>followfriday       for being top engaged memb...</td>\n",
              "      <td>1</td>\n",
              "    </tr>\n",
              "    <tr>\n",
              "      <th>1</th>\n",
              "      <td>hey james how odd  please call our contact c...</td>\n",
              "      <td>1</td>\n",
              "    </tr>\n",
              "    <tr>\n",
              "      <th>2</th>\n",
              "      <td>we had a listen last night  as you bleed is ...</td>\n",
              "      <td>1</td>\n",
              "    </tr>\n",
              "    <tr>\n",
              "      <th>3</th>\n",
              "      <td>congrats</td>\n",
              "      <td>1</td>\n",
              "    </tr>\n",
              "    <tr>\n",
              "      <th>4</th>\n",
              "      <td>yeaaaah yippppy  my accnt verified rqst has su...</td>\n",
              "      <td>1</td>\n",
              "    </tr>\n",
              "    <tr>\n",
              "      <th>...</th>\n",
              "      <td>...</td>\n",
              "      <td>...</td>\n",
              "    </tr>\n",
              "    <tr>\n",
              "      <th>9995</th>\n",
              "      <td>i wanna change my avi but usanele</td>\n",
              "      <td>0</td>\n",
              "    </tr>\n",
              "    <tr>\n",
              "      <th>9996</th>\n",
              "      <td>my puppy broke her foot</td>\n",
              "      <td>0</td>\n",
              "    </tr>\n",
              "    <tr>\n",
              "      <th>9997</th>\n",
              "      <td>wheres all the jaebum baby pictures</td>\n",
              "      <td>0</td>\n",
              "    </tr>\n",
              "    <tr>\n",
              "      <th>9998</th>\n",
              "      <td>but but mr ahmad maslan cooks too</td>\n",
              "      <td>0</td>\n",
              "    </tr>\n",
              "    <tr>\n",
              "      <th>9999</th>\n",
              "      <td>as a hull supporter i am expecting a missera...</td>\n",
              "      <td>0</td>\n",
              "    </tr>\n",
              "  </tbody>\n",
              "</table>\n",
              "<p>10000 rows × 2 columns</p>\n",
              "</div>"
            ],
            "text/plain": [
              "                                             Tweet Data  Label\n",
              "0      followfriday       for being top engaged memb...      1\n",
              "1       hey james how odd  please call our contact c...      1\n",
              "2       we had a listen last night  as you bleed is ...      1\n",
              "3                                             congrats       1\n",
              "4     yeaaaah yippppy  my accnt verified rqst has su...      1\n",
              "...                                                 ...    ...\n",
              "9995                 i wanna change my avi but usanele       0\n",
              "9996                           my puppy broke her foot       0\n",
              "9997               wheres all the jaebum baby pictures       0\n",
              "9998               but but mr ahmad maslan cooks too         0\n",
              "9999    as a hull supporter i am expecting a missera...      0\n",
              "\n",
              "[10000 rows x 2 columns]"
            ]
          },
          "metadata": {},
          "execution_count": 47
        }
      ]
    },
    {
      "cell_type": "code",
      "metadata": {
        "colab": {
          "base_uri": "https://localhost:8080/",
          "height": 417
        },
        "id": "OaJ_DyYwN-Xy",
        "outputId": "278f1caf-cc8c-43a9-9641-49e30ae67fec"
      },
      "source": [
        "train,test = train_test_split(all_data, test_size=0.4, shuffle=True)\n",
        "test"
      ],
      "execution_count": 51,
      "outputs": [
        {
          "output_type": "execute_result",
          "data": {
            "text/html": [
              "<div>\n",
              "<style scoped>\n",
              "    .dataframe tbody tr th:only-of-type {\n",
              "        vertical-align: middle;\n",
              "    }\n",
              "\n",
              "    .dataframe tbody tr th {\n",
              "        vertical-align: top;\n",
              "    }\n",
              "\n",
              "    .dataframe thead th {\n",
              "        text-align: right;\n",
              "    }\n",
              "</style>\n",
              "<table border=\"1\" class=\"dataframe\">\n",
              "  <thead>\n",
              "    <tr style=\"text-align: right;\">\n",
              "      <th></th>\n",
              "      <th>Tweet Data</th>\n",
              "      <th>Label</th>\n",
              "    </tr>\n",
              "  </thead>\n",
              "  <tbody>\n",
              "    <tr>\n",
              "      <th>3941</th>\n",
              "      <td>you aint wrong there buddy</td>\n",
              "      <td>1</td>\n",
              "    </tr>\n",
              "    <tr>\n",
              "      <th>7428</th>\n",
              "      <td>i told myself i can survive living alone for t...</td>\n",
              "      <td>0</td>\n",
              "    </tr>\n",
              "    <tr>\n",
              "      <th>693</th>\n",
              "      <td>follow me please olly</td>\n",
              "      <td>1</td>\n",
              "    </tr>\n",
              "    <tr>\n",
              "      <th>4522</th>\n",
              "      <td>indeed</td>\n",
              "      <td>1</td>\n",
              "    </tr>\n",
              "    <tr>\n",
              "      <th>3211</th>\n",
              "      <td>yes cass i think you should</td>\n",
              "      <td>1</td>\n",
              "    </tr>\n",
              "    <tr>\n",
              "      <th>...</th>\n",
              "      <td>...</td>\n",
              "      <td>...</td>\n",
              "    </tr>\n",
              "    <tr>\n",
              "      <th>5716</th>\n",
              "      <td>gutted for reynold the kind of desserts he has...</td>\n",
              "      <td>0</td>\n",
              "    </tr>\n",
              "    <tr>\n",
              "      <th>7490</th>\n",
              "      <td>update   via</td>\n",
              "      <td>0</td>\n",
              "    </tr>\n",
              "    <tr>\n",
              "      <th>7364</th>\n",
              "      <td>oh thats a shame  were really looking for pe...</td>\n",
              "      <td>0</td>\n",
              "    </tr>\n",
              "    <tr>\n",
              "      <th>7758</th>\n",
              "      <td>im so sorry about my spam guys</td>\n",
              "      <td>0</td>\n",
              "    </tr>\n",
              "    <tr>\n",
              "      <th>6748</th>\n",
              "      <td>istg i wanna lick jackson  nsbzhdnxndamal</td>\n",
              "      <td>0</td>\n",
              "    </tr>\n",
              "  </tbody>\n",
              "</table>\n",
              "<p>4000 rows × 2 columns</p>\n",
              "</div>"
            ],
            "text/plain": [
              "                                             Tweet Data  Label\n",
              "3941                        you aint wrong there buddy       1\n",
              "7428  i told myself i can survive living alone for t...      0\n",
              "693                              follow me please olly       1\n",
              "4522                                            indeed       1\n",
              "3211                       yes cass i think you should       1\n",
              "...                                                 ...    ...\n",
              "5716  gutted for reynold the kind of desserts he has...      0\n",
              "7490                                     update   via        0\n",
              "7364    oh thats a shame  were really looking for pe...      0\n",
              "7758                  im so sorry about my spam guys         0\n",
              "6748          istg i wanna lick jackson  nsbzhdnxndamal      0\n",
              "\n",
              "[4000 rows x 2 columns]"
            ]
          },
          "metadata": {},
          "execution_count": 51
        }
      ]
    },
    {
      "cell_type": "code",
      "metadata": {
        "id": "pAieI3N6YP--"
      },
      "source": [
        "tfidf_vectorizer = TfidfVectorizer(lowercase = False)\n",
        "tfidf_representation = tfidf_vectorizer.fit(train['Tweet Data'])\n",
        "\n",
        "X_train = tfidf_vectorizer.transform(train['Tweet Data'])\n",
        "X_test = tfidf_vectorizer.transform(test['Tweet Data'])\n",
        "\n",
        "y_train = train['Label']\n",
        "y_test = test['Label']"
      ],
      "execution_count": 55,
      "outputs": []
    },
    {
      "cell_type": "code",
      "metadata": {
        "colab": {
          "base_uri": "https://localhost:8080/"
        },
        "id": "9w14MMaEYvCt",
        "outputId": "0f889a3f-cc32-4c24-8261-2dc3f0a725ac"
      },
      "source": [
        "from sklearn.linear_model import LogisticRegression\n",
        "\n",
        "logreg = LogisticRegression()\n",
        "logreg.fit(X_train, y_train)\n",
        "print('Train Score', logreg.score(X_train, y_train))\n",
        "print('Test Score', logreg.score(X_test, y_test))"
      ],
      "execution_count": 56,
      "outputs": [
        {
          "output_type": "stream",
          "name": "stdout",
          "text": [
            "Train Score 0.8826666666666667\n",
            "Test Score 0.75975\n"
          ]
        }
      ]
    },
    {
      "cell_type": "code",
      "metadata": {
        "colab": {
          "base_uri": "https://localhost:8080/"
        },
        "id": "EWCuw2ahZEHT",
        "outputId": "9f827582-1d4d-4470-de7a-2613f9cb325f"
      },
      "source": [
        "from sklearn.linear_model import LinearRegression\n",
        "reg = LinearRegression()\n",
        "reg.fit(X_train, y_train)\n",
        "print('Train Score', reg.score(X_train, y_train))\n",
        "print('Test Score', reg.score(X_test, y_test))\n",
        "print(\"The best possible score is 1.0 and it is negative (because the model is arbitrarily worse).\")\n",
        "# reg.predict(y_test)"
      ],
      "execution_count": 67,
      "outputs": [
        {
          "output_type": "stream",
          "name": "stdout",
          "text": [
            "Train Score 0.9443506635912338\n",
            "Test Score -1.3930334916196712\n",
            "The best possible score is 1.0 and it is negative (because the model is arbitrarily worse).\n"
          ]
        }
      ]
    },
    {
      "cell_type": "code",
      "metadata": {
        "colab": {
          "base_uri": "https://localhost:8080/"
        },
        "id": "Js3Wd3DcbFtz",
        "outputId": "da1e0a53-b7cf-4d20-ae08-3e73d40a92ab"
      },
      "source": [
        "from sklearn.linear_model import RidgeClassifier\n",
        "clf = RidgeClassifier()\n",
        "clf.fit(X_train, y_train)\n",
        "print('Train Score', clf.score(X_train, y_train))\n",
        "print('Test Score', clf.score(X_test, y_test))"
      ],
      "execution_count": 71,
      "outputs": [
        {
          "output_type": "stream",
          "name": "stdout",
          "text": [
            "Train Score 0.9485\n",
            "Test Score 0.75625\n"
          ]
        }
      ]
    },
    {
      "cell_type": "code",
      "metadata": {
        "colab": {
          "base_uri": "https://localhost:8080/"
        },
        "id": "ec8Rpo_PbyAc",
        "outputId": "78a860ee-abd5-4ef9-d17f-df49aee7ce04"
      },
      "source": [
        "from sklearn.linear_model import Ridge\n",
        "clf = Ridge(alpha=1.0)\n",
        "clf.fit(X_train, y_train)\n",
        "print('Train Score', clf.score(X_train, y_train))\n",
        "print('Test Score', clf.score(X_test, y_test))"
      ],
      "execution_count": 72,
      "outputs": [
        {
          "output_type": "stream",
          "name": "stdout",
          "text": [
            "Train Score 0.6973236933670302\n",
            "Test Score 0.3265988417136828\n"
          ]
        }
      ]
    }
  ]
}